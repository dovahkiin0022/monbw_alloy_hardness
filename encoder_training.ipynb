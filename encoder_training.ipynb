{
 "cells": [
  {
   "cell_type": "code",
   "execution_count": 1,
   "metadata": {},
   "outputs": [],
   "source": [
    "import pickle\n",
    "import re\n",
    "import numpy as np\n",
    "import pandas as pd\n",
    "import random\n",
    "import torch\n",
    "import torch.optim as optim\n",
    "from sklearn.model_selection import train_test_split\n",
    "from torch.utils.data import DataLoader\n",
    "import tqdm\n",
    "import joblib\n",
    "import os\n",
    "from sklearn.metrics import classification_report\n",
    "import matplotlib.pyplot as plt\n",
    "import seaborn as sns\n",
    "from modules.function import PTR, image_gfa, special_formatting, check_cuda\n",
    "from modules.encoder import Encoder"
   ]
  },
  {
   "cell_type": "code",
   "execution_count": 2,
   "metadata": {},
   "outputs": [
    {
     "name": "stdout",
     "output_type": "stream",
     "text": [
      "Enabling notebook extension jupyter-js-widgets/extension...\n",
      "      - Validating: \u001b[32mOK\u001b[0m\n"
     ]
    }
   ],
   "source": [
    "!jupyter nbextension enable --py widgetsnbextension"
   ]
  },
  {
   "cell_type": "code",
   "execution_count": 3,
   "metadata": {},
   "outputs": [
    {
     "data": {
      "text/plain": [
       "<torch._C.Generator at 0x7ff9f8156310>"
      ]
     },
     "execution_count": 3,
     "metadata": {},
     "output_type": "execute_result"
    }
   ],
   "source": [
    "random.seed(0)\n",
    "torch.manual_seed(0)"
   ]
  },
  {
   "cell_type": "code",
   "execution_count": 4,
   "metadata": {},
   "outputs": [],
   "source": [
    "gfa_dataset_file = 'gfa_dataset.txt'\n",
    "z_row_column_file = 'Z_row_column.txt'\n",
    "element_property_file = 'element_property.txt'\n",
    "common_path = \"Files_from_GTDL_paper/{}\" \n",
    "gfa_dataset = pickle.load(open(common_path.format(gfa_dataset_file), 'rb'))  \n",
    "RC = pickle.load(open(common_path.format(z_row_column_file), 'rb')) \n",
    "new_index=[int(i[4]) for i in RC]#new order \n",
    "Z_row_column = pickle.load(open(common_path.format(z_row_column_file), 'rb'))\n",
    "[property_name_list,property_list,element_name,_]=pickle.load(open(common_path.format(element_property_file), 'rb'))"
   ]
  },
  {
   "cell_type": "code",
   "execution_count": 5,
   "metadata": {},
   "outputs": [],
   "source": [
    "gfa_i=[]\n",
    "gfa_a=[]\n",
    "gfa_b=[]\n",
    "gfa_c=[]\n",
    "for i in  gfa_dataset:\n",
    "    tx_gfa=re.findall('\\[[a-c]?\\]', i)#[B, Fe, P,No]\n",
    "    gfa_i.extend(tx_gfa)\n",
    "    if tx_gfa[0]=='[a]':\n",
    "        gfa_a.append(gfa_dataset.index(i))\n",
    "    elif tx_gfa[0]=='[b]':\n",
    "        gfa_b.append(gfa_dataset.index(i)) \n",
    "    else:\n",
    "        gfa_c.append(gfa_dataset.index(i))\n",
    "        \n",
    "gfa_data_form=[]\n",
    "gfa_data_form_b=[]\n",
    "#------------------------------------------------------------------------------\n",
    "#map raw data to 2-D image using PTR\n",
    "for i in gfa_a:\n",
    "    x,y = PTR(gfa_dataset[i],property_list, element_name,Z_row_column)\n",
    "    gfa_data_form=gfa_data_form+x\n",
    "    gfa_data_form_b=gfa_data_form_b+y\n",
    "for i in gfa_c:\n",
    "    x,y = PTR(gfa_dataset[i],property_list, element_name,Z_row_column)\n",
    "    gfa_data_form=gfa_data_form+x\n",
    "    gfa_data_form_b=gfa_data_form_b+y \n",
    "for i in gfa_b:\n",
    "    x,y = PTR(gfa_dataset[i],property_list, element_name,Z_row_column)\n",
    "    gfa_data_form=gfa_data_form+[x[0]]\n",
    "    gfa_data_form_b=gfa_data_form_b+[y[0]]  \n",
    "\n",
    "X_all = np.array(gfa_data_form).reshape(-1, 1,9, 18).astype('float32') \n",
    "y_all = np.array(gfa_data_form_b).reshape(-1,1).astype('float32')"
   ]
  },
  {
   "cell_type": "code",
   "execution_count": 6,
   "metadata": {},
   "outputs": [],
   "source": [
    "X_train, X_test, y_train, y_test = train_test_split(X_all, y_all, test_size=0.20,random_state = 0)\n",
    "batch = 64\n",
    "Xy = [(X_train[i],y_train[i]) for i in range(len(y_train))]\n",
    "train_loader = DataLoader(Xy, batch_size = batch , shuffle=True)"
   ]
  },
  {
   "cell_type": "code",
   "execution_count": 7,
   "metadata": {},
   "outputs": [],
   "source": [
    "gfa_Encoder = Encoder(1,1)\n",
    "e_optimizer = optim.Adam(gfa_Encoder.parameters(),lr = 1e-3)"
   ]
  },
  {
   "cell_type": "code",
   "execution_count": 8,
   "metadata": {},
   "outputs": [
    {
     "data": {
      "application/vnd.jupyter.widget-view+json": {
       "model_id": "d17ad11cbd194c0981789f58be254459",
       "version_major": 2,
       "version_minor": 0
      },
      "text/plain": [
       "  0%|          | 0/2000 [00:00<?, ?it/s]"
      ]
     },
     "metadata": {},
     "output_type": "display_data"
    },
    {
     "name": "stdout",
     "output_type": "stream",
     "text": [
      "Epoch : 1, Loss : 123.44415724277496\n",
      "Epoch : 50, Loss : 38.18676492571831\n",
      "Epoch : 100, Loss : 30.369550723582506\n",
      "Epoch : 150, Loss : 27.086787786334753\n",
      "Epoch : 200, Loss : 25.636469343677163\n",
      "Epoch : 250, Loss : 23.15258999913931\n",
      "Epoch : 300, Loss : 22.630558056756854\n",
      "Epoch : 350, Loss : 21.094762293621898\n",
      "Epoch : 400, Loss : 20.168322689831257\n",
      "Epoch : 450, Loss : 19.751791955903172\n",
      "Epoch : 500, Loss : 19.437464019283652\n",
      "Epoch : 550, Loss : 20.90734229888767\n",
      "Epoch : 600, Loss : 18.033152604475617\n",
      "Epoch : 650, Loss : 18.439707352779806\n",
      "Epoch : 700, Loss : 17.841299484483898\n",
      "Epoch : 750, Loss : 16.645048989105817\n",
      "Epoch : 800, Loss : 17.241635479265824\n",
      "Epoch : 850, Loss : 17.748350268229842\n",
      "Epoch : 900, Loss : 16.521812020801008\n",
      "Epoch : 950, Loss : 17.214776573702693\n",
      "Epoch : 1000, Loss : 15.569766672328115\n",
      "Epoch : 1050, Loss : 16.225951690226793\n",
      "Epoch : 1100, Loss : 14.752632688963786\n",
      "Epoch : 1150, Loss : 14.624952187761664\n",
      "Epoch : 1200, Loss : 14.47201357549784\n",
      "Epoch : 1250, Loss : 14.282097587827593\n",
      "Epoch : 1300, Loss : 14.559881302062422\n",
      "Epoch : 1350, Loss : 13.364100506295472\n",
      "Epoch : 1400, Loss : 15.128174038865836\n",
      "Epoch : 1450, Loss : 14.061848630197346\n",
      "Epoch : 1500, Loss : 16.30040359357372\n",
      "Epoch : 1550, Loss : 13.691565616987646\n",
      "Epoch : 1600, Loss : 16.395924618002027\n",
      "Epoch : 1650, Loss : 13.941486650845036\n",
      "Epoch : 1700, Loss : 13.625467436388135\n",
      "Epoch : 1750, Loss : 13.051850588992238\n",
      "Epoch : 1800, Loss : 13.394307045731694\n",
      "Epoch : 1850, Loss : 12.739479428171762\n",
      "Epoch : 1900, Loss : 14.306568754953332\n",
      "Epoch : 1950, Loss : 13.061167744803242\n",
      "Epoch : 2000, Loss : 14.261145885771839\n"
     ]
    }
   ],
   "source": [
    "num_iterations = 2000\n",
    "cuda = check_cuda()\n",
    "if cuda:\n",
    "  gfa_Encoder = gfa_Encoder.cuda()\n",
    "log_interval = int(5e1)\n",
    "for iter in tqdm.notebook.tqdm(range(num_iterations)):\n",
    "  train_loss = 0.0\n",
    "  for data in train_loader:\n",
    "    X,y = data\n",
    "    if cuda:\n",
    "      X = X.cuda()\n",
    "      y = y.cuda()\n",
    "    e_optimizer.zero_grad()\n",
    "    target = gfa_Encoder(X)\n",
    "    if cuda:\n",
    "      target = target.cuda()\n",
    "    e_error = torch.nn.BCELoss()(target,y)\n",
    "    e_error.backward(retain_graph=True)\n",
    "    e_optimizer.step()\n",
    "    train_loss += e_error.cpu().item()\n",
    "  if iter == 0 or (iter + 1) % log_interval == 0:  \n",
    "    print('Epoch : {}, Loss : {}'.format(iter+1,train_loss))"
   ]
  },
  {
   "cell_type": "code",
   "execution_count": 9,
   "metadata": {},
   "outputs": [],
   "source": [
    "if X_test.dtype != torch.float32:\n",
    "    X_test = torch.from_numpy(X_test)\n",
    "if cuda:\n",
    "    X_test =  X_test.cuda()\n",
    "y_predict = (gfa_Encoder(X_test)).to('cpu').detach().numpy()\n",
    "target_names = ['Crystalline','Amorphous']\n",
    "clf = classification_report(y_test, np.round(y_predict), target_names=target_names,output_dict=True)"
   ]
  },
  {
   "cell_type": "code",
   "execution_count": 10,
   "metadata": {},
   "outputs": [
    {
     "data": {
      "image/png": "[encoded data removed]",
      "text/plain": [
       "<Figure size 504x252 with 2 Axes>"
      ]
     },
     "metadata": {
      "needs_background": "light"
     },
     "output_type": "display_data"
    }
   ],
   "source": [
    "fig,ax = plt.subplots(figsize = (7,3.5))\n",
    "ax = sns.heatmap(pd.DataFrame(clf).iloc[:-1, :2].T, annot=True, vmax=1,vmin=0.9,cmap = 'GnBu')\n",
    "ax.set_yticklabels(labels = ['Crystalline','Amorphous'],fontsize=12)\n",
    "ax.set_xticklabels(labels = ['Precision','Recall','f1-score'],fontsize=12)\n",
    "plt.title('Classification report',fontsize=14)\n",
    "\n",
    "saved_fig_path = 'figures'\n",
    "if not os.path.exists(f'{saved_fig_path}'):\n",
    "  os.makedirs(f'{saved_fig_path}')\n",
    "plt.savefig(saved_fig_path+'/classification_report.pdf')"
   ]
  },
  {
   "cell_type": "code",
   "execution_count": 11,
   "metadata": {},
   "outputs": [
    {
     "data": {
      "text/plain": [
       "['saved_models/PTR/PTR_Encoder.pt']"
      ]
     },
     "execution_count": 11,
     "metadata": {},
     "output_type": "execute_result"
    }
   ],
   "source": [
    "general_path = 'saved_models'\n",
    "kind = 'PTR'\n",
    "if not os.path.exists(f'{general_path}/{kind}'):\n",
    "  os.makedirs(f'{general_path}/{kind}')\n",
    "joblib.dump(gfa_Encoder,f'{general_path}/{kind}/PTR_Encoder.pt')"
   ]
  }
 ],
 "metadata": {
  "kernelspec": {
   "display_name": "Python 3.10.4 ('compare_representations': conda)",
   "language": "python",
   "name": "python3"
  },
  "language_info": {
   "codemirror_mode": {
    "name": "ipython",
    "version": 3
   },
   "file_extension": ".py",
   "mimetype": "text/x-python",
   "name": "python",
   "nbconvert_exporter": "python",
   "pygments_lexer": "ipython3",
   "version": "3.10.4"
  },
  "orig_nbformat": 4,
  "vscode": {
   "interpreter": {
    "hash": "8a1ad9b44374217f284defa8f2b445ec28c1fb70a22743f64b8c91885b8a0eca"
   }
  }
 },
 "nbformat": 4,
 "nbformat_minor": 2
}
