{
 "cells": [
  {
   "cell_type": "code",
   "execution_count": 1,
   "metadata": {},
   "outputs": [
    {
     "name": "stderr",
     "output_type": "stream",
     "text": [
      "/noether/s0/aqd5773/anaconda3/envs/monbw_alloy_hardness/lib/python3.10/site-packages/tqdm/auto.py:22: TqdmWarning: IProgress not found. Please update jupyter and ipywidgets. See https://ipywidgets.readthedocs.io/en/stable/user_install.html\n",
      "  from .autonotebook import tqdm as notebook_tqdm\n"
     ]
    }
   ],
   "source": [
    "import os\n",
    "import joblib\n",
    "import torch.nn as nn\n",
    "import numpy as np\n",
    "import pandas as pd\n",
    "import pickle\n",
    "import torch\n",
    "from sklearn.decomposition import PCA\n",
    "from sklearn.preprocessing import StandardScaler\n",
    "from sklearn.model_selection import train_test_split\n",
    "from sklearn.model_selection import GridSearchCV\n",
    "from sklearn.pipeline import Pipeline\n",
    "from sklearn.neural_network import MLPRegressor\n",
    "import random\n",
    "from modules.encoder import Encoder, Identity\n",
    "from modules.function import pymatgen_comp, data_generator, check_cuda, stratify_data"
   ]
  },
  {
   "cell_type": "code",
   "execution_count": 2,
   "metadata": {},
   "outputs": [
    {
     "data": {
      "text/plain": [
       "<torch._C.Generator at 0x7fd96b43eab0>"
      ]
     },
     "execution_count": 2,
     "metadata": {},
     "output_type": "execute_result"
    }
   ],
   "source": [
    "random.seed(0)\n",
    "torch.manual_seed(0)"
   ]
  },
  {
   "cell_type": "code",
   "execution_count": 3,
   "metadata": {},
   "outputs": [],
   "source": [
    "from warnings import simplefilter\n",
    "from sklearn.exceptions import ConvergenceWarning\n",
    "simplefilter(\"ignore\", category=ConvergenceWarning)"
   ]
  },
  {
   "cell_type": "code",
   "execution_count": 4,
   "metadata": {},
   "outputs": [],
   "source": [
    "saved_model_path = 'saved_models/hardness_models'\n",
    "if not os.path.exists(saved_model_path):\n",
    "  os.makedirs(saved_model_path)"
   ]
  },
  {
   "cell_type": "code",
   "execution_count": 5,
   "metadata": {},
   "outputs": [],
   "source": [
    "gfa_dataset_file = 'gfa_dataset.txt'\n",
    "z_row_column_file = 'Z_row_column.txt'\n",
    "element_property_file = 'element_property.txt'\n",
    "common_path = \"Files_from_GTDL_paper/{}\" \n",
    "gfa_dataset = pickle.load(open(common_path.format(gfa_dataset_file), 'rb'))  \n",
    "RC = pickle.load(open(common_path.format(z_row_column_file), 'rb')) \n",
    "new_index=[int(i[4]) for i in RC]#new order \n",
    "Z_row_column = pickle.load(open(common_path.format(z_row_column_file), 'rb'))\n",
    "[property_name_list,property_list,element_name,_]=pickle.load(open(common_path.format(element_property_file), 'rb'))"
   ]
  },
  {
   "cell_type": "code",
   "execution_count": 6,
   "metadata": {},
   "outputs": [],
   "source": [
    "saved_models_path = 'saved_models'\n",
    "type = 'PTR'\n",
    "filename = 'PTR_Encoder.pt'\n",
    "if os.path.exists(f'{saved_models_path}/{type}/{filename}'):\n",
    "    PTR_encoder =  joblib.load(f'{saved_models_path}/{type}/{filename}')\n",
    "else:\n",
    "    print('No file found!')\n",
    "\n",
    "PTR_encoder.mapf = Identity()"
   ]
  },
  {
   "cell_type": "markdown",
   "metadata": {},
   "source": [
    "#Iteration 1 - Train with initial dataset, predict on all experimental values"
   ]
  },
  {
   "cell_type": "code",
   "execution_count": 7,
   "metadata": {},
   "outputs": [],
   "source": [
    "initial_df_path = 'dataset/hardness_combined.csv'\n",
    "df = pd.read_csv(initial_df_path,index_col=0)\n",
    "data = df[['Composition','HardGPa']][df['As-cast/other']==1].values\n",
    "comps = data[:,0]\n",
    "hardGPa = data[:,1].reshape(-1,1)\n",
    "pmg_comps = pymatgen_comp(comps)\n",
    "comps_dset = data_generator(pmg_comps,property_list,element_name,RC)"
   ]
  },
  {
   "cell_type": "code",
   "execution_count": 8,
   "metadata": {},
   "outputs": [],
   "source": [
    "\n",
    "enc_input = torch.from_numpy(comps_dset.real_data.astype('float32'))\n",
    "cuda = check_cuda()\n",
    "if cuda:\n",
    "    enc_input = enc_input.cuda()\n",
    "with torch.no_grad():\n",
    "    PTR_features = PTR_encoder(enc_input).to('cpu').detach().numpy()"
   ]
  },
  {
   "cell_type": "code",
   "execution_count": 9,
   "metadata": {},
   "outputs": [],
   "source": [
    "pca = PCA(n_components=10)\n",
    "scaler_y = StandardScaler()\n",
    "X = pca.fit_transform(PTR_features)\n",
    "y = scaler_y.fit_transform(hardGPa)"
   ]
  },
  {
   "cell_type": "code",
   "execution_count": 58,
   "metadata": {},
   "outputs": [
    {
     "data": {
      "text/plain": [
       "['saved_models/hardness_models/MLP_hardness_iter0.pt']"
      ]
     },
     "execution_count": 58,
     "metadata": {},
     "output_type": "execute_result"
    }
   ],
   "source": [
    "param_grid = {'hidden_layer_sizes': [(50,50,50), (50,100,50), (100,1)],\n",
    "          'activation': ['relu','tanh','logistic'],\n",
    "          'alpha': [0.0001, 0.05],\n",
    "          'learning_rate': ['constant','adaptive'],\n",
    "          'solver': ['adam']\n",
    "          }\n",
    "gridCV = GridSearchCV(MLPRegressor(batch_size=128), param_grid=param_grid,cv=10)\n",
    "pipe = Pipeline([('Scaler', StandardScaler()),('grid',gridCV)])\n",
    "pipe.fit(X,y.ravel())\n",
    "joblib.dump(pipe,f'{saved_model_path}/MLP_hardness_iter0.pt')"
   ]
  },
  {
   "cell_type": "code",
   "execution_count": 24,
   "metadata": {},
   "outputs": [],
   "source": [
    "pipe = joblib.load(f'{saved_model_path}/MLP_hardness_iter0.pt')"
   ]
  },
  {
   "cell_type": "code",
   "execution_count": 59,
   "metadata": {},
   "outputs": [],
   "source": [
    "experimental_df_path = 'dataset/experimental_hardness.csv'\n",
    "experimental_df = pd.read_csv(experimental_df_path)"
   ]
  },
  {
   "cell_type": "code",
   "execution_count": 60,
   "metadata": {},
   "outputs": [],
   "source": [
    "experimental_comps = experimental_df['Composition'].values\n",
    "experimental_hardGPa = experimental_df['HardGPa'].values.reshape(-1,1)\n",
    "experimental_pmg_comps = pymatgen_comp(experimental_comps)\n",
    "experimental_comps_dset = data_generator(experimental_pmg_comps,property_list,element_name,RC)"
   ]
  },
  {
   "cell_type": "code",
   "execution_count": 61,
   "metadata": {},
   "outputs": [],
   "source": [
    "exp_enc_input = torch.from_numpy(experimental_comps_dset.real_data.astype('float32'))\n",
    "cuda = check_cuda()\n",
    "if cuda:\n",
    "    exp_enc_input = exp_enc_input.cuda()\n",
    "exp_PTR_features = PTR_encoder(exp_enc_input).to('cpu').detach().numpy()\n",
    "X_exp = pca.transform(exp_PTR_features)\n",
    "y_exp_predict = np.round(scaler_y.inverse_transform(pipe.predict(X_exp).reshape(-1,1)),2)\n",
    "experimental_df['Iteration 1 predictions'] = y_exp_predict"
   ]
  },
  {
   "cell_type": "code",
   "execution_count": 62,
   "metadata": {},
   "outputs": [
    {
     "data": {
      "text/html": [
       "<div>\n",
       "<style scoped>\n",
       "    .dataframe tbody tr th:only-of-type {\n",
       "        vertical-align: middle;\n",
       "    }\n",
       "\n",
       "    .dataframe tbody tr th {\n",
       "        vertical-align: top;\n",
       "    }\n",
       "\n",
       "    .dataframe thead th {\n",
       "        text-align: right;\n",
       "    }\n",
       "</style>\n",
       "<table border=\"1\" class=\"dataframe\">\n",
       "  <thead>\n",
       "    <tr style=\"text-align: right;\">\n",
       "      <th></th>\n",
       "      <th>Composition</th>\n",
       "      <th>HardGPa</th>\n",
       "      <th>Iteration 1 predictions</th>\n",
       "    </tr>\n",
       "  </thead>\n",
       "  <tbody>\n",
       "    <tr>\n",
       "      <th>0</th>\n",
       "      <td>Nb0.37Mo0.52W0.11</td>\n",
       "      <td>5.2</td>\n",
       "      <td>8.16</td>\n",
       "    </tr>\n",
       "    <tr>\n",
       "      <th>1</th>\n",
       "      <td>Nb0.49Mo0.07W0.44</td>\n",
       "      <td>5.8</td>\n",
       "      <td>7.11</td>\n",
       "    </tr>\n",
       "    <tr>\n",
       "      <th>2</th>\n",
       "      <td>Nb0.57Mo0.33W0.10</td>\n",
       "      <td>5.4</td>\n",
       "      <td>8.26</td>\n",
       "    </tr>\n",
       "    <tr>\n",
       "      <th>3</th>\n",
       "      <td>Nb0.32Mo0.44W0.24</td>\n",
       "      <td>5.2</td>\n",
       "      <td>7.40</td>\n",
       "    </tr>\n",
       "    <tr>\n",
       "      <th>4</th>\n",
       "      <td>Nb0.425Mo0.167W0.407</td>\n",
       "      <td>6.0</td>\n",
       "      <td>6.85</td>\n",
       "    </tr>\n",
       "    <tr>\n",
       "      <th>5</th>\n",
       "      <td>Nb0.33Mo0.327W0.344</td>\n",
       "      <td>5.6</td>\n",
       "      <td>6.47</td>\n",
       "    </tr>\n",
       "    <tr>\n",
       "      <th>6</th>\n",
       "      <td>Nb0.17W0.32Zr0.18Ti0.32</td>\n",
       "      <td>4.9</td>\n",
       "      <td>5.32</td>\n",
       "    </tr>\n",
       "    <tr>\n",
       "      <th>7</th>\n",
       "      <td>Nb0.06Mo0.03W0.27Zr0.3Ti0.3V0.03</td>\n",
       "      <td>4.4</td>\n",
       "      <td>5.33</td>\n",
       "    </tr>\n",
       "    <tr>\n",
       "      <th>8</th>\n",
       "      <td>Nb0.47Mo0.13W0.07Zr0.17Ti0.03V0.13</td>\n",
       "      <td>5.0</td>\n",
       "      <td>5.97</td>\n",
       "    </tr>\n",
       "  </tbody>\n",
       "</table>\n",
       "</div>"
      ],
      "text/plain": [
       "                          Composition  HardGPa  Iteration 1 predictions\n",
       "0                   Nb0.37Mo0.52W0.11      5.2                     8.16\n",
       "1                   Nb0.49Mo0.07W0.44      5.8                     7.11\n",
       "2                   Nb0.57Mo0.33W0.10      5.4                     8.26\n",
       "3                   Nb0.32Mo0.44W0.24      5.2                     7.40\n",
       "4                Nb0.425Mo0.167W0.407      6.0                     6.85\n",
       "5                 Nb0.33Mo0.327W0.344      5.6                     6.47\n",
       "6             Nb0.17W0.32Zr0.18Ti0.32      4.9                     5.32\n",
       "7    Nb0.06Mo0.03W0.27Zr0.3Ti0.3V0.03      4.4                     5.33\n",
       "8  Nb0.47Mo0.13W0.07Zr0.17Ti0.03V0.13      5.0                     5.97"
      ]
     },
     "execution_count": 62,
     "metadata": {},
     "output_type": "execute_result"
    }
   ],
   "source": [
    "experimental_df"
   ]
  },
  {
   "cell_type": "code",
   "execution_count": 15,
   "metadata": {},
   "outputs": [],
   "source": [
    "experimental_df.to_csv('dataset/iterative_prediction.csv')"
   ]
  },
  {
   "cell_type": "markdown",
   "metadata": {},
   "source": [
    "#Iteration 2 - Include first three experimental values in training model "
   ]
  },
  {
   "cell_type": "code",
   "execution_count": 31,
   "metadata": {},
   "outputs": [],
   "source": [
    "PTR_features_new = np.concatenate([PTR_features,exp_PTR_features[:3]],axis=0)\n",
    "hardGPa_new = np.concatenate([hardGPa,experimental_hardGPa[:3]],axis=0)\n",
    "X_new = pca.transform(PTR_features_new)\n",
    "y_new = scaler_y.transform(hardGPa_new)"
   ]
  },
  {
   "cell_type": "code",
   "execution_count": 63,
   "metadata": {},
   "outputs": [
    {
     "data": {
      "text/plain": [
       "['saved_models/hardness_models/MLP_hardness_iter1.pt']"
      ]
     },
     "execution_count": 63,
     "metadata": {},
     "output_type": "execute_result"
    }
   ],
   "source": [
    "param_grid = {'hidden_layer_sizes': [(50,50,50), (50,100,50), (100,1)],\n",
    "          'activation': ['relu','tanh','logistic'],\n",
    "          'alpha': [0.0001, 0.05],\n",
    "          'learning_rate': ['constant','adaptive'],\n",
    "          'solver': ['adam']}\n",
    "gridCV = GridSearchCV(MLPRegressor(batch_size=128), param_grid=param_grid,cv=10)\n",
    "pipe = Pipeline([('Scaler', StandardScaler()),('grid',gridCV)])\n",
    "pipe.fit(X_new,y_new.ravel())\n",
    "joblib.dump(pipe,f'{saved_model_path}/MLP_hardness_iter1.pt')"
   ]
  },
  {
   "cell_type": "code",
   "execution_count": 18,
   "metadata": {},
   "outputs": [],
   "source": [
    "pipe = joblib.load('saved_models/hardness_models/MLP_hardness_iter1.pt')"
   ]
  },
  {
   "cell_type": "code",
   "execution_count": 64,
   "metadata": {},
   "outputs": [],
   "source": [
    "X_exp_new = pca.transform(exp_PTR_features)\n",
    "y_exp_predict = scaler_y.inverse_transform(pipe.predict(X_exp_new).reshape(-1,1))"
   ]
  },
  {
   "cell_type": "code",
   "execution_count": 66,
   "metadata": {},
   "outputs": [],
   "source": [
    "experimental_df['Iteration 2 predictions'] = y_exp_predict"
   ]
  },
  {
   "cell_type": "code",
   "execution_count": 67,
   "metadata": {},
   "outputs": [
    {
     "data": {
      "text/html": [
       "<div>\n",
       "<style scoped>\n",
       "    .dataframe tbody tr th:only-of-type {\n",
       "        vertical-align: middle;\n",
       "    }\n",
       "\n",
       "    .dataframe tbody tr th {\n",
       "        vertical-align: top;\n",
       "    }\n",
       "\n",
       "    .dataframe thead th {\n",
       "        text-align: right;\n",
       "    }\n",
       "</style>\n",
       "<table border=\"1\" class=\"dataframe\">\n",
       "  <thead>\n",
       "    <tr style=\"text-align: right;\">\n",
       "      <th></th>\n",
       "      <th>Composition</th>\n",
       "      <th>HardGPa</th>\n",
       "      <th>Iteration 1 predictions</th>\n",
       "      <th>Iteration 2 predictions</th>\n",
       "    </tr>\n",
       "  </thead>\n",
       "  <tbody>\n",
       "    <tr>\n",
       "      <th>0</th>\n",
       "      <td>Nb0.37Mo0.52W0.11</td>\n",
       "      <td>5.2</td>\n",
       "      <td>8.16</td>\n",
       "      <td>5.543756</td>\n",
       "    </tr>\n",
       "    <tr>\n",
       "      <th>1</th>\n",
       "      <td>Nb0.49Mo0.07W0.44</td>\n",
       "      <td>5.8</td>\n",
       "      <td>7.11</td>\n",
       "      <td>6.112259</td>\n",
       "    </tr>\n",
       "    <tr>\n",
       "      <th>2</th>\n",
       "      <td>Nb0.57Mo0.33W0.10</td>\n",
       "      <td>5.4</td>\n",
       "      <td>8.26</td>\n",
       "      <td>5.432451</td>\n",
       "    </tr>\n",
       "    <tr>\n",
       "      <th>3</th>\n",
       "      <td>Nb0.32Mo0.44W0.24</td>\n",
       "      <td>5.2</td>\n",
       "      <td>7.40</td>\n",
       "      <td>5.518746</td>\n",
       "    </tr>\n",
       "    <tr>\n",
       "      <th>4</th>\n",
       "      <td>Nb0.425Mo0.167W0.407</td>\n",
       "      <td>6.0</td>\n",
       "      <td>6.85</td>\n",
       "      <td>5.920314</td>\n",
       "    </tr>\n",
       "    <tr>\n",
       "      <th>5</th>\n",
       "      <td>Nb0.33Mo0.327W0.344</td>\n",
       "      <td>5.6</td>\n",
       "      <td>6.47</td>\n",
       "      <td>5.224339</td>\n",
       "    </tr>\n",
       "    <tr>\n",
       "      <th>6</th>\n",
       "      <td>Nb0.17W0.32Zr0.18Ti0.32</td>\n",
       "      <td>4.9</td>\n",
       "      <td>5.32</td>\n",
       "      <td>4.907175</td>\n",
       "    </tr>\n",
       "    <tr>\n",
       "      <th>7</th>\n",
       "      <td>Nb0.06Mo0.03W0.27Zr0.3Ti0.3V0.03</td>\n",
       "      <td>4.4</td>\n",
       "      <td>5.33</td>\n",
       "      <td>5.108167</td>\n",
       "    </tr>\n",
       "    <tr>\n",
       "      <th>8</th>\n",
       "      <td>Nb0.47Mo0.13W0.07Zr0.17Ti0.03V0.13</td>\n",
       "      <td>5.0</td>\n",
       "      <td>5.97</td>\n",
       "      <td>5.538674</td>\n",
       "    </tr>\n",
       "  </tbody>\n",
       "</table>\n",
       "</div>"
      ],
      "text/plain": [
       "                          Composition  HardGPa  Iteration 1 predictions  \\\n",
       "0                   Nb0.37Mo0.52W0.11      5.2                     8.16   \n",
       "1                   Nb0.49Mo0.07W0.44      5.8                     7.11   \n",
       "2                   Nb0.57Mo0.33W0.10      5.4                     8.26   \n",
       "3                   Nb0.32Mo0.44W0.24      5.2                     7.40   \n",
       "4                Nb0.425Mo0.167W0.407      6.0                     6.85   \n",
       "5                 Nb0.33Mo0.327W0.344      5.6                     6.47   \n",
       "6             Nb0.17W0.32Zr0.18Ti0.32      4.9                     5.32   \n",
       "7    Nb0.06Mo0.03W0.27Zr0.3Ti0.3V0.03      4.4                     5.33   \n",
       "8  Nb0.47Mo0.13W0.07Zr0.17Ti0.03V0.13      5.0                     5.97   \n",
       "\n",
       "   Iteration 2 predictions  \n",
       "0                 5.543756  \n",
       "1                 6.112259  \n",
       "2                 5.432451  \n",
       "3                 5.518746  \n",
       "4                 5.920314  \n",
       "5                 5.224339  \n",
       "6                 4.907175  \n",
       "7                 5.108167  \n",
       "8                 5.538674  "
      ]
     },
     "execution_count": 67,
     "metadata": {},
     "output_type": "execute_result"
    }
   ],
   "source": [
    "experimental_df"
   ]
  }
 ],
 "metadata": {
  "kernelspec": {
   "display_name": "Python 3.10.4 ('monbw_alloy_hardness': conda)",
   "language": "python",
   "name": "python3"
  },
  "language_info": {
   "codemirror_mode": {
    "name": "ipython",
    "version": 3
   },
   "file_extension": ".py",
   "mimetype": "text/x-python",
   "name": "python",
   "nbconvert_exporter": "python",
   "pygments_lexer": "ipython3",
   "version": "3.10.4"
  },
  "orig_nbformat": 4,
  "vscode": {
   "interpreter": {
    "hash": "4e309fee53f67ae8bec19112853891ba4c8300edcac17d8c4e5d7c970b0c0f87"
   }
  }
 },
 "nbformat": 4,
 "nbformat_minor": 2
}
