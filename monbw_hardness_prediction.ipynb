{
 "cells": [
  {
   "cell_type": "code",
   "execution_count": 1,
   "metadata": {},
   "outputs": [
    {
     "name": "stderr",
     "output_type": "stream",
     "text": [
      "/noether/s0/aqd5773/anaconda3/envs/monbw_alloy_hardness/lib/python3.10/site-packages/tqdm/auto.py:22: TqdmWarning: IProgress not found. Please update jupyter and ipywidgets. See https://ipywidgets.readthedocs.io/en/stable/user_install.html\n",
      "  from .autonotebook import tqdm as notebook_tqdm\n"
     ]
    }
   ],
   "source": [
    "import os\n",
    "import joblib\n",
    "import torch.nn as nn\n",
    "import numpy as np\n",
    "import pandas as pd\n",
    "import pickle\n",
    "import torch\n",
    "from sklearn.decomposition import PCA\n",
    "from sklearn.preprocessing import StandardScaler\n",
    "from sklearn.model_selection import train_test_split\n",
    "from sklearn.model_selection import GridSearchCV\n",
    "from sklearn.pipeline import Pipeline\n",
    "from sklearn.neural_network import MLPRegressor\n",
    "import random\n",
    "from modules.encoder import Encoder, Identity\n",
    "from modules.function import pymatgen_comp, data_generator, check_cuda, stratify_data"
   ]
  },
  {
   "cell_type": "code",
   "execution_count": 2,
   "metadata": {},
   "outputs": [],
   "source": [
    "from warnings import simplefilter\n",
    "from sklearn.exceptions import ConvergenceWarning\n",
    "simplefilter(\"ignore\", category=ConvergenceWarning)"
   ]
  },
  {
   "cell_type": "code",
   "execution_count": 3,
   "metadata": {},
   "outputs": [],
   "source": [
    "saved_model_path = 'saved_models/hardness_models'\n",
    "if not os.path.exists(saved_model_path):\n",
    "  os.makedirs(saved_model_path)"
   ]
  },
  {
   "cell_type": "code",
   "execution_count": 4,
   "metadata": {},
   "outputs": [],
   "source": [
    "gfa_dataset_file = 'gfa_dataset.txt'\n",
    "z_row_column_file = 'Z_row_column.txt'\n",
    "element_property_file = 'element_property.txt'\n",
    "common_path = \"Files_from_GTDL_paper/{}\" \n",
    "gfa_dataset = pickle.load(open(common_path.format(gfa_dataset_file), 'rb'))  \n",
    "RC = pickle.load(open(common_path.format(z_row_column_file), 'rb')) \n",
    "new_index=[int(i[4]) for i in RC]#new order \n",
    "Z_row_column = pickle.load(open(common_path.format(z_row_column_file), 'rb'))\n",
    "[property_name_list,property_list,element_name,_]=pickle.load(open(common_path.format(element_property_file), 'rb'))"
   ]
  },
  {
   "cell_type": "code",
   "execution_count": 5,
   "metadata": {},
   "outputs": [],
   "source": [
    "saved_models_path = 'saved_models'\n",
    "type = 'PTR'\n",
    "filename = 'PTR_Encoder_torch.pt'\n",
    "if os.path.exists(f'{saved_models_path}/{type}/{filename}'):\n",
    "    PTR_encoder =  torch.jit.load(f'{saved_models_path}/{type}/{filename}')\n",
    "else:\n",
    "    print('No file found!')\n"
   ]
  },
  {
   "attachments": {},
   "cell_type": "markdown",
   "metadata": {},
   "source": [
    "# Iteration 1 - Train with initial dataset, predict on all experimental values"
   ]
  },
  {
   "cell_type": "code",
   "execution_count": 6,
   "metadata": {},
   "outputs": [],
   "source": [
    "initial_df_path = 'dataset/Hardness_CURATED_Dec2022_FixedElementsExcluded.csv'\n",
    "df = pd.read_csv(initial_df_path)\n",
    "df.columns = ['Composition','database','temperature','HardGPa']\n",
    "df['HardGPa'] = df['HardGPa'].div(1e9)\n",
    "data = df[['Composition','HardGPa']].values\n",
    "comps = data[:,0]\n",
    "hardGPa = data[:,1].reshape(-1,1)\n",
    "pmg_comps = pymatgen_comp(comps)\n",
    "comps_dset = data_generator(pmg_comps,property_list,element_name,RC)"
   ]
  },
  {
   "cell_type": "code",
   "execution_count": 7,
   "metadata": {},
   "outputs": [],
   "source": [
    "enc_input = torch.from_numpy(comps_dset.real_data.astype('float32'))\n",
    "cuda = check_cuda()\n",
    "if cuda:\n",
    "    enc_input = enc_input.cuda()\n",
    "    PTR_encoder = PTR_encoder.cuda()\n",
    "with torch.no_grad():\n",
    "    PTR_features = PTR_encoder(enc_input).to('cpu').detach().numpy()"
   ]
  },
  {
   "cell_type": "code",
   "execution_count": 31,
   "metadata": {},
   "outputs": [],
   "source": [
    "pca = PCA(n_components=10)\n",
    "scaler_y = StandardScaler()\n",
    "X = pca.fit_transform(PTR_features)\n",
    "y = hardGPa"
   ]
  },
  {
   "cell_type": "code",
   "execution_count": 10,
   "metadata": {},
   "outputs": [
    {
     "data": {
      "text/html": [
       "<style>#sk-container-id-1 {color: black;background-color: white;}#sk-container-id-1 pre{padding: 0;}#sk-container-id-1 div.sk-toggleable {background-color: white;}#sk-container-id-1 label.sk-toggleable__label {cursor: pointer;display: block;width: 100%;margin-bottom: 0;padding: 0.3em;box-sizing: border-box;text-align: center;}#sk-container-id-1 label.sk-toggleable__label-arrow:before {content: \"▸\";float: left;margin-right: 0.25em;color: #696969;}#sk-container-id-1 label.sk-toggleable__label-arrow:hover:before {color: black;}#sk-container-id-1 div.sk-estimator:hover label.sk-toggleable__label-arrow:before {color: black;}#sk-container-id-1 div.sk-toggleable__content {max-height: 0;max-width: 0;overflow: hidden;text-align: left;background-color: #f0f8ff;}#sk-container-id-1 div.sk-toggleable__content pre {margin: 0.2em;color: black;border-radius: 0.25em;background-color: #f0f8ff;}#sk-container-id-1 input.sk-toggleable__control:checked~div.sk-toggleable__content {max-height: 200px;max-width: 100%;overflow: auto;}#sk-container-id-1 input.sk-toggleable__control:checked~label.sk-toggleable__label-arrow:before {content: \"▾\";}#sk-container-id-1 div.sk-estimator input.sk-toggleable__control:checked~label.sk-toggleable__label {background-color: #d4ebff;}#sk-container-id-1 div.sk-label input.sk-toggleable__control:checked~label.sk-toggleable__label {background-color: #d4ebff;}#sk-container-id-1 input.sk-hidden--visually {border: 0;clip: rect(1px 1px 1px 1px);clip: rect(1px, 1px, 1px, 1px);height: 1px;margin: -1px;overflow: hidden;padding: 0;position: absolute;width: 1px;}#sk-container-id-1 div.sk-estimator {font-family: monospace;background-color: #f0f8ff;border: 1px dotted black;border-radius: 0.25em;box-sizing: border-box;margin-bottom: 0.5em;}#sk-container-id-1 div.sk-estimator:hover {background-color: #d4ebff;}#sk-container-id-1 div.sk-parallel-item::after {content: \"\";width: 100%;border-bottom: 1px solid gray;flex-grow: 1;}#sk-container-id-1 div.sk-label:hover label.sk-toggleable__label {background-color: #d4ebff;}#sk-container-id-1 div.sk-serial::before {content: \"\";position: absolute;border-left: 1px solid gray;box-sizing: border-box;top: 0;bottom: 0;left: 50%;z-index: 0;}#sk-container-id-1 div.sk-serial {display: flex;flex-direction: column;align-items: center;background-color: white;padding-right: 0.2em;padding-left: 0.2em;position: relative;}#sk-container-id-1 div.sk-item {position: relative;z-index: 1;}#sk-container-id-1 div.sk-parallel {display: flex;align-items: stretch;justify-content: center;background-color: white;position: relative;}#sk-container-id-1 div.sk-item::before, #sk-container-id-1 div.sk-parallel-item::before {content: \"\";position: absolute;border-left: 1px solid gray;box-sizing: border-box;top: 0;bottom: 0;left: 50%;z-index: -1;}#sk-container-id-1 div.sk-parallel-item {display: flex;flex-direction: column;z-index: 1;position: relative;background-color: white;}#sk-container-id-1 div.sk-parallel-item:first-child::after {align-self: flex-end;width: 50%;}#sk-container-id-1 div.sk-parallel-item:last-child::after {align-self: flex-start;width: 50%;}#sk-container-id-1 div.sk-parallel-item:only-child::after {width: 0;}#sk-container-id-1 div.sk-dashed-wrapped {border: 1px dashed gray;margin: 0 0.4em 0.5em 0.4em;box-sizing: border-box;padding-bottom: 0.4em;background-color: white;}#sk-container-id-1 div.sk-label label {font-family: monospace;font-weight: bold;display: inline-block;line-height: 1.2em;}#sk-container-id-1 div.sk-label-container {text-align: center;}#sk-container-id-1 div.sk-container {/* jupyter's `normalize.less` sets `[hidden] { display: none; }` but bootstrap.min.css set `[hidden] { display: none !important; }` so we also need the `!important` here to be able to override the default hidden behavior on the sphinx rendered scikit-learn.org. See: https://github.com/scikit-learn/scikit-learn/issues/21755 */display: inline-block !important;position: relative;}#sk-container-id-1 div.sk-text-repr-fallback {display: none;}</style><div id=\"sk-container-id-1\" class=\"sk-top-container\"><div class=\"sk-text-repr-fallback\"><pre>Pipeline(steps=[(&#x27;Scaler&#x27;, StandardScaler()),\n",
       "                (&#x27;grid&#x27;,\n",
       "                 GridSearchCV(cv=10, estimator=MLPRegressor(),\n",
       "                              param_grid={&#x27;activation&#x27;: [&#x27;relu&#x27;, &#x27;tanh&#x27;,\n",
       "                                                         &#x27;logistic&#x27;],\n",
       "                                          &#x27;alpha&#x27;: [0.0001, 0.05],\n",
       "                                          &#x27;batch_size&#x27;: [32, 64, 128],\n",
       "                                          &#x27;hidden_layer_sizes&#x27;: [(50, 50, 50),\n",
       "                                                                 (50, 100, 50),\n",
       "                                                                 (100, 1)],\n",
       "                                          &#x27;learning_rate&#x27;: [&#x27;constant&#x27;,\n",
       "                                                            &#x27;adaptive&#x27;]}))])</pre><b>In a Jupyter environment, please rerun this cell to show the HTML representation or trust the notebook. <br />On GitHub, the HTML representation is unable to render, please try loading this page with nbviewer.org.</b></div><div class=\"sk-container\" hidden><div class=\"sk-item sk-dashed-wrapped\"><div class=\"sk-label-container\"><div class=\"sk-label sk-toggleable\"><input class=\"sk-toggleable__control sk-hidden--visually\" id=\"sk-estimator-id-1\" type=\"checkbox\" ><label for=\"sk-estimator-id-1\" class=\"sk-toggleable__label sk-toggleable__label-arrow\">Pipeline</label><div class=\"sk-toggleable__content\"><pre>Pipeline(steps=[(&#x27;Scaler&#x27;, StandardScaler()),\n",
       "                (&#x27;grid&#x27;,\n",
       "                 GridSearchCV(cv=10, estimator=MLPRegressor(),\n",
       "                              param_grid={&#x27;activation&#x27;: [&#x27;relu&#x27;, &#x27;tanh&#x27;,\n",
       "                                                         &#x27;logistic&#x27;],\n",
       "                                          &#x27;alpha&#x27;: [0.0001, 0.05],\n",
       "                                          &#x27;batch_size&#x27;: [32, 64, 128],\n",
       "                                          &#x27;hidden_layer_sizes&#x27;: [(50, 50, 50),\n",
       "                                                                 (50, 100, 50),\n",
       "                                                                 (100, 1)],\n",
       "                                          &#x27;learning_rate&#x27;: [&#x27;constant&#x27;,\n",
       "                                                            &#x27;adaptive&#x27;]}))])</pre></div></div></div><div class=\"sk-serial\"><div class=\"sk-item\"><div class=\"sk-estimator sk-toggleable\"><input class=\"sk-toggleable__control sk-hidden--visually\" id=\"sk-estimator-id-2\" type=\"checkbox\" ><label for=\"sk-estimator-id-2\" class=\"sk-toggleable__label sk-toggleable__label-arrow\">StandardScaler</label><div class=\"sk-toggleable__content\"><pre>StandardScaler()</pre></div></div></div><div class=\"sk-item sk-dashed-wrapped\"><div class=\"sk-label-container\"><div class=\"sk-label sk-toggleable\"><input class=\"sk-toggleable__control sk-hidden--visually\" id=\"sk-estimator-id-3\" type=\"checkbox\" ><label for=\"sk-estimator-id-3\" class=\"sk-toggleable__label sk-toggleable__label-arrow\">grid: GridSearchCV</label><div class=\"sk-toggleable__content\"><pre>GridSearchCV(cv=10, estimator=MLPRegressor(),\n",
       "             param_grid={&#x27;activation&#x27;: [&#x27;relu&#x27;, &#x27;tanh&#x27;, &#x27;logistic&#x27;],\n",
       "                         &#x27;alpha&#x27;: [0.0001, 0.05], &#x27;batch_size&#x27;: [32, 64, 128],\n",
       "                         &#x27;hidden_layer_sizes&#x27;: [(50, 50, 50), (50, 100, 50),\n",
       "                                                (100, 1)],\n",
       "                         &#x27;learning_rate&#x27;: [&#x27;constant&#x27;, &#x27;adaptive&#x27;]})</pre></div></div></div><div class=\"sk-parallel\"><div class=\"sk-parallel-item\"><div class=\"sk-item\"><div class=\"sk-label-container\"><div class=\"sk-label sk-toggleable\"><input class=\"sk-toggleable__control sk-hidden--visually\" id=\"sk-estimator-id-4\" type=\"checkbox\" ><label for=\"sk-estimator-id-4\" class=\"sk-toggleable__label sk-toggleable__label-arrow\">estimator: MLPRegressor</label><div class=\"sk-toggleable__content\"><pre>MLPRegressor()</pre></div></div></div><div class=\"sk-serial\"><div class=\"sk-item\"><div class=\"sk-estimator sk-toggleable\"><input class=\"sk-toggleable__control sk-hidden--visually\" id=\"sk-estimator-id-5\" type=\"checkbox\" ><label for=\"sk-estimator-id-5\" class=\"sk-toggleable__label sk-toggleable__label-arrow\">MLPRegressor</label><div class=\"sk-toggleable__content\"><pre>MLPRegressor()</pre></div></div></div></div></div></div></div></div></div></div></div></div>"
      ],
      "text/plain": [
       "Pipeline(steps=[('Scaler', StandardScaler()),\n",
       "                ('grid',\n",
       "                 GridSearchCV(cv=10, estimator=MLPRegressor(),\n",
       "                              param_grid={'activation': ['relu', 'tanh',\n",
       "                                                         'logistic'],\n",
       "                                          'alpha': [0.0001, 0.05],\n",
       "                                          'batch_size': [32, 64, 128],\n",
       "                                          'hidden_layer_sizes': [(50, 50, 50),\n",
       "                                                                 (50, 100, 50),\n",
       "                                                                 (100, 1)],\n",
       "                                          'learning_rate': ['constant',\n",
       "                                                            'adaptive']}))])"
      ]
     },
     "execution_count": 10,
     "metadata": {},
     "output_type": "execute_result"
    }
   ],
   "source": [
    "np.random.seed(0)\n",
    "param_grid = {'hidden_layer_sizes': [(50,50,50), (50,100,50), (100,1)],\n",
    "          'activation': ['relu','tanh','logistic'],\n",
    "          'alpha': [0.0001, 0.05],\n",
    "          'learning_rate': ['constant','adaptive'],\n",
    "          'batch_size' : [32,64,128]\n",
    "          }\n",
    "gridCV = GridSearchCV(MLPRegressor(), param_grid=param_grid,cv=10)\n",
    "pipe = Pipeline([('Scaler', StandardScaler()),('grid',gridCV)])\n",
    "pipe.fit(X,y.ravel())\n",
    "#joblib.dump(pipe,f'{saved_model_path}/MLP_hardness_iter0.pt')"
   ]
  },
  {
   "cell_type": "code",
   "execution_count": 19,
   "metadata": {},
   "outputs": [
    {
     "data": {
      "text/plain": [
       "{'activation': 'relu',\n",
       " 'alpha': 0.0001,\n",
       " 'batch_size': 32,\n",
       " 'hidden_layer_sizes': (50, 50, 50),\n",
       " 'learning_rate': 'adaptive'}"
      ]
     },
     "execution_count": 19,
     "metadata": {},
     "output_type": "execute_result"
    }
   ],
   "source": [
    "pipe['grid'].best_params_"
   ]
  },
  {
   "cell_type": "code",
   "execution_count": 44,
   "metadata": {},
   "outputs": [],
   "source": [
    "from sklearn.model_selection import KFold\n",
    "kf = KFold(n_splits=10, random_state=0, shuffle = True)\n",
    "true, predict = [],[]\n",
    "v = []\n",
    "for i,(train_inds, test_inds) in enumerate(kf.split(X)):\n",
    "    X_train, y_train = X[train_inds], y[train_inds].ravel()\n",
    "    X_test, y_test = X[test_inds],y[test_inds].ravel()\n",
    "    model = Pipeline([('Scaler', StandardScaler()),('mlp',MLPRegressor(activation = 'relu', alpha = 0.0001, batch_size = 32,hidden_layer_sizes = (50, 50, 50),learning_rate = 'adaptive'))])\n",
    "    model.fit(X_train, y_train)\n",
    "    y_pred = model.predict(X_test)\n",
    "    true.extend(y_test)\n",
    "    predict.extend(y_pred)\n",
    "    v.extend([i]*len(y_pred))\n",
    "    with open(f'saved_models/hardness_models/iter0/mlp_{i}.pkl','wb') as fid:\n",
    "        pickle.dump(model,fid)"
   ]
  },
  {
   "cell_type": "code",
   "execution_count": 102,
   "metadata": {},
   "outputs": [
    {
     "data": {
      "image/png": "[encoded data removed]",
      "text/plain": [
       "<Figure size 360x360 with 1 Axes>"
      ]
     },
     "metadata": {
      "needs_background": "light"
     },
     "output_type": "display_data"
    }
   ],
   "source": [
    "import matplotlib.pyplot as plt\n",
    "fig,ax = plt.subplots(figsize = (5,5))\n",
    "ax.scatter(predict, true)\n",
    "ax.plot([0,12], [0,12], 'k-', zorder=0)\n",
    "ax.set_xlabel('Predicted hardness [GPa]', fontsize = 18)\n",
    "ax.set_ylabel('Real hardness [GPa]', fontsize = 18)\n",
    "ax.tick_params(axis='both', which='major', labelsize=16)\n",
    "ax.set_aspect('equal', adjustable='box')\n",
    "ax.set_xticks(np.arange(0,14,2))\n",
    "ax.set_yticks(np.arange(0,14,2))\n",
    "fig.tight_layout()\n",
    "\n",
    "fig_location = 'figures'\n",
    "plt.savefig(fig_location+'/fit_new.pdf')\n"
   ]
  },
  {
   "cell_type": "code",
   "execution_count": 9,
   "metadata": {},
   "outputs": [
    {
     "data": {
      "image/png": "[encoded data removed]",
      "text/plain": [
       "<Figure size 360x360 with 1 Axes>"
      ]
     },
     "metadata": {
      "needs_background": "light"
     },
     "output_type": "display_data"
    }
   ],
   "source": [
    "import joblib\n",
    "import matplotlib.pyplot as plt\n",
    "model = joblib.load('saved_models/hardness_models/MLP_hardness_iter0.pt')\n",
    "\n",
    "predicted = model.predict(X)\n",
    "scaled_predicted = scaler_y.inverse_transform(predicted.reshape(-1,1))\n",
    "fig,ax = plt.subplots(figsize = (5,5))\n",
    "ax.scatter(scaled_predicted,data[:,1].reshape(-1,1))\n",
    "ax.plot([0,10], [0,10], 'k-', zorder=0)\n",
    "ax.set_xlabel('Predicted hardness [GPa]', fontsize = 18)\n",
    "ax.set_ylabel('Real hardness [GPa]', fontsize = 18)\n",
    "ax.tick_params(axis='both', which='major', labelsize=16)\n",
    "ax.set_aspect('equal', adjustable='box')\n",
    "\n",
    "fig_location = 'figures'\n",
    "plt.tight_layout()\n",
    "plt.savefig(fig_location+'/fit.pdf')"
   ]
  },
  {
   "cell_type": "code",
   "execution_count": 10,
   "metadata": {},
   "outputs": [],
   "source": [
    "pipe = joblib.load(f'{saved_model_path}/MLP_hardness_iter0.pt')"
   ]
  },
  {
   "cell_type": "code",
   "execution_count": 45,
   "metadata": {},
   "outputs": [],
   "source": [
    "experimental_df_path = 'dataset/experimental_hardness.csv'\n",
    "experimental_df = pd.read_csv(experimental_df_path)"
   ]
  },
  {
   "cell_type": "code",
   "execution_count": 50,
   "metadata": {},
   "outputs": [],
   "source": [
    "experimental_comps = experimental_df['Composition'].values\n",
    "experimental_hardGPa = experimental_df['HardGPa'].values.reshape(-1,1)\n",
    "experimental_pmg_comps = pymatgen_comp(experimental_comps)\n",
    "experimental_comps_dset = data_generator(experimental_pmg_comps,property_list,element_name,RC)\n",
    "exp_enc_input = torch.from_numpy(experimental_comps_dset.real_data.astype('float32'))\n",
    "cuda = check_cuda()\n",
    "if cuda:\n",
    "    exp_enc_input = exp_enc_input.cuda()\n",
    "exp_PTR_features = PTR_encoder(exp_enc_input).to('cpu').detach().numpy()\n",
    "X_exp = pca.transform(exp_PTR_features)"
   ]
  },
  {
   "cell_type": "code",
   "execution_count": 19,
   "metadata": {},
   "outputs": [],
   "source": [
    "exp_enc_input = torch.from_numpy(experimental_comps_dset.real_data.astype('float32'))\n",
    "cuda = check_cuda()\n",
    "if cuda:\n",
    "    exp_enc_input = exp_enc_input.cuda()\n",
    "exp_PTR_features = PTR_encoder(exp_enc_input).to('cpu').detach().numpy()\n",
    "X_exp = pca.transform(exp_PTR_features)\n",
    "y_exp_predict = np.round(scaler_y.inverse_transform(pipe.predict(X_exp).reshape(-1,1)),2)\n",
    "experimental_df['Iteration 1 predictions'] = y_exp_predict"
   ]
  },
  {
   "cell_type": "code",
   "execution_count": 71,
   "metadata": {},
   "outputs": [],
   "source": [
    "models = os.listdir('saved_models/hardness_models/iter0')\n",
    "preds = []\n",
    "for model_name in models:\n",
    "    with open(os.path.join('saved_models/hardness_models/iter0',model_name),'rb') as fid:\n",
    "        model = pickle.load(fid)\n",
    "    preds.append(model.predict(X_exp))\n",
    "all_preds = np.array(preds).T\n",
    "preds_mean = all_preds.mean(axis=1)\n",
    "preds_std = all_preds.std(axis=1)\n",
    "preds_mean, preds_std\n",
    "from uncertainties import ufloat\n",
    "y_exp_predict = [ufloat(x,y) for x,y in zip(preds_mean, preds_std)]\n",
    "experimental_df['Iteration 1 predictions'] = y_exp_predict\n"
   ]
  },
  {
   "cell_type": "code",
   "execution_count": 72,
   "metadata": {},
   "outputs": [
    {
     "data": {
      "text/html": [
       "<div>\n",
       "<style scoped>\n",
       "    .dataframe tbody tr th:only-of-type {\n",
       "        vertical-align: middle;\n",
       "    }\n",
       "\n",
       "    .dataframe tbody tr th {\n",
       "        vertical-align: top;\n",
       "    }\n",
       "\n",
       "    .dataframe thead th {\n",
       "        text-align: right;\n",
       "    }\n",
       "</style>\n",
       "<table border=\"1\" class=\"dataframe\">\n",
       "  <thead>\n",
       "    <tr style=\"text-align: right;\">\n",
       "      <th></th>\n",
       "      <th>Composition</th>\n",
       "      <th>HardGPa</th>\n",
       "      <th>Iteration 1 predictions</th>\n",
       "    </tr>\n",
       "  </thead>\n",
       "  <tbody>\n",
       "    <tr>\n",
       "      <th>0</th>\n",
       "      <td>Nb0.37Mo0.52W0.11</td>\n",
       "      <td>5.2</td>\n",
       "      <td>3.4+/-1.0</td>\n",
       "    </tr>\n",
       "    <tr>\n",
       "      <th>1</th>\n",
       "      <td>Nb0.49Mo0.07W0.44</td>\n",
       "      <td>5.8</td>\n",
       "      <td>5.1+/-2.4</td>\n",
       "    </tr>\n",
       "    <tr>\n",
       "      <th>2</th>\n",
       "      <td>Nb0.57Mo0.33W0.10</td>\n",
       "      <td>5.4</td>\n",
       "      <td>3.8+/-1.9</td>\n",
       "    </tr>\n",
       "    <tr>\n",
       "      <th>3</th>\n",
       "      <td>Nb0.32Mo0.44W0.24</td>\n",
       "      <td>5.2</td>\n",
       "      <td>3.7+/-0.9</td>\n",
       "    </tr>\n",
       "    <tr>\n",
       "      <th>4</th>\n",
       "      <td>Nb0.425Mo0.167W0.407</td>\n",
       "      <td>6.0</td>\n",
       "      <td>4.3+/-2.1</td>\n",
       "    </tr>\n",
       "    <tr>\n",
       "      <th>5</th>\n",
       "      <td>Nb0.33Mo0.327W0.344</td>\n",
       "      <td>5.6</td>\n",
       "      <td>3.9+/-1.0</td>\n",
       "    </tr>\n",
       "    <tr>\n",
       "      <th>6</th>\n",
       "      <td>Nb0.17W0.32Zr0.18Ti0.32</td>\n",
       "      <td>4.9</td>\n",
       "      <td>2.4+/-0.7</td>\n",
       "    </tr>\n",
       "    <tr>\n",
       "      <th>7</th>\n",
       "      <td>Nb0.06Mo0.03W0.27Zr0.3Ti0.3V0.03</td>\n",
       "      <td>4.4</td>\n",
       "      <td>2.7+/-0.8</td>\n",
       "    </tr>\n",
       "    <tr>\n",
       "      <th>8</th>\n",
       "      <td>Nb0.47Mo0.13W0.07Zr0.17Ti0.03V0.13</td>\n",
       "      <td>5.0</td>\n",
       "      <td>4.0+/-0.9</td>\n",
       "    </tr>\n",
       "  </tbody>\n",
       "</table>\n",
       "</div>"
      ],
      "text/plain": [
       "                          Composition  HardGPa Iteration 1 predictions\n",
       "0                   Nb0.37Mo0.52W0.11      5.2               3.4+/-1.0\n",
       "1                   Nb0.49Mo0.07W0.44      5.8               5.1+/-2.4\n",
       "2                   Nb0.57Mo0.33W0.10      5.4               3.8+/-1.9\n",
       "3                   Nb0.32Mo0.44W0.24      5.2               3.7+/-0.9\n",
       "4                Nb0.425Mo0.167W0.407      6.0               4.3+/-2.1\n",
       "5                 Nb0.33Mo0.327W0.344      5.6               3.9+/-1.0\n",
       "6             Nb0.17W0.32Zr0.18Ti0.32      4.9               2.4+/-0.7\n",
       "7    Nb0.06Mo0.03W0.27Zr0.3Ti0.3V0.03      4.4               2.7+/-0.8\n",
       "8  Nb0.47Mo0.13W0.07Zr0.17Ti0.03V0.13      5.0               4.0+/-0.9"
      ]
     },
     "execution_count": 72,
     "metadata": {},
     "output_type": "execute_result"
    }
   ],
   "source": [
    "#experimental_df['percent error'] = (experimental_df['HardGPa'] - experimental_df['Iteration 1 predictions'])/experimental_df['HardGPa']*100\n",
    "experimental_df"
   ]
  },
  {
   "cell_type": "code",
   "execution_count": 15,
   "metadata": {},
   "outputs": [],
   "source": [
    "experimental_df.to_csv('dataset/iterative_prediction.csv')"
   ]
  },
  {
   "attachments": {},
   "cell_type": "markdown",
   "metadata": {},
   "source": [
    "# Iteration 2 - Include first three experimental values in training model "
   ]
  },
  {
   "attachments": {},
   "cell_type": "markdown",
   "metadata": {},
   "source": [
    "## a-c"
   ]
  },
  {
   "cell_type": "code",
   "execution_count": 74,
   "metadata": {},
   "outputs": [],
   "source": [
    "PTR_features_new = np.concatenate([PTR_features,exp_PTR_features[:3]],axis=0)\n",
    "hardGPa_new = np.concatenate([hardGPa,experimental_hardGPa[:3]],axis=0)\n",
    "X_new = pca.transform(PTR_features_new)\n",
    "y_new = hardGPa_new"
   ]
  },
  {
   "cell_type": "code",
   "execution_count": 76,
   "metadata": {},
   "outputs": [
    {
     "data": {
      "text/html": [
       "<style>#sk-container-id-5 {color: black;background-color: white;}#sk-container-id-5 pre{padding: 0;}#sk-container-id-5 div.sk-toggleable {background-color: white;}#sk-container-id-5 label.sk-toggleable__label {cursor: pointer;display: block;width: 100%;margin-bottom: 0;padding: 0.3em;box-sizing: border-box;text-align: center;}#sk-container-id-5 label.sk-toggleable__label-arrow:before {content: \"▸\";float: left;margin-right: 0.25em;color: #696969;}#sk-container-id-5 label.sk-toggleable__label-arrow:hover:before {color: black;}#sk-container-id-5 div.sk-estimator:hover label.sk-toggleable__label-arrow:before {color: black;}#sk-container-id-5 div.sk-toggleable__content {max-height: 0;max-width: 0;overflow: hidden;text-align: left;background-color: #f0f8ff;}#sk-container-id-5 div.sk-toggleable__content pre {margin: 0.2em;color: black;border-radius: 0.25em;background-color: #f0f8ff;}#sk-container-id-5 input.sk-toggleable__control:checked~div.sk-toggleable__content {max-height: 200px;max-width: 100%;overflow: auto;}#sk-container-id-5 input.sk-toggleable__control:checked~label.sk-toggleable__label-arrow:before {content: \"▾\";}#sk-container-id-5 div.sk-estimator input.sk-toggleable__control:checked~label.sk-toggleable__label {background-color: #d4ebff;}#sk-container-id-5 div.sk-label input.sk-toggleable__control:checked~label.sk-toggleable__label {background-color: #d4ebff;}#sk-container-id-5 input.sk-hidden--visually {border: 0;clip: rect(1px 1px 1px 1px);clip: rect(1px, 1px, 1px, 1px);height: 1px;margin: -1px;overflow: hidden;padding: 0;position: absolute;width: 1px;}#sk-container-id-5 div.sk-estimator {font-family: monospace;background-color: #f0f8ff;border: 1px dotted black;border-radius: 0.25em;box-sizing: border-box;margin-bottom: 0.5em;}#sk-container-id-5 div.sk-estimator:hover {background-color: #d4ebff;}#sk-container-id-5 div.sk-parallel-item::after {content: \"\";width: 100%;border-bottom: 1px solid gray;flex-grow: 1;}#sk-container-id-5 div.sk-label:hover label.sk-toggleable__label {background-color: #d4ebff;}#sk-container-id-5 div.sk-serial::before {content: \"\";position: absolute;border-left: 1px solid gray;box-sizing: border-box;top: 0;bottom: 0;left: 50%;z-index: 0;}#sk-container-id-5 div.sk-serial {display: flex;flex-direction: column;align-items: center;background-color: white;padding-right: 0.2em;padding-left: 0.2em;position: relative;}#sk-container-id-5 div.sk-item {position: relative;z-index: 1;}#sk-container-id-5 div.sk-parallel {display: flex;align-items: stretch;justify-content: center;background-color: white;position: relative;}#sk-container-id-5 div.sk-item::before, #sk-container-id-5 div.sk-parallel-item::before {content: \"\";position: absolute;border-left: 1px solid gray;box-sizing: border-box;top: 0;bottom: 0;left: 50%;z-index: -1;}#sk-container-id-5 div.sk-parallel-item {display: flex;flex-direction: column;z-index: 1;position: relative;background-color: white;}#sk-container-id-5 div.sk-parallel-item:first-child::after {align-self: flex-end;width: 50%;}#sk-container-id-5 div.sk-parallel-item:last-child::after {align-self: flex-start;width: 50%;}#sk-container-id-5 div.sk-parallel-item:only-child::after {width: 0;}#sk-container-id-5 div.sk-dashed-wrapped {border: 1px dashed gray;margin: 0 0.4em 0.5em 0.4em;box-sizing: border-box;padding-bottom: 0.4em;background-color: white;}#sk-container-id-5 div.sk-label label {font-family: monospace;font-weight: bold;display: inline-block;line-height: 1.2em;}#sk-container-id-5 div.sk-label-container {text-align: center;}#sk-container-id-5 div.sk-container {/* jupyter's `normalize.less` sets `[hidden] { display: none; }` but bootstrap.min.css set `[hidden] { display: none !important; }` so we also need the `!important` here to be able to override the default hidden behavior on the sphinx rendered scikit-learn.org. See: https://github.com/scikit-learn/scikit-learn/issues/21755 */display: inline-block !important;position: relative;}#sk-container-id-5 div.sk-text-repr-fallback {display: none;}</style><div id=\"sk-container-id-5\" class=\"sk-top-container\"><div class=\"sk-text-repr-fallback\"><pre>Pipeline(steps=[(&#x27;Scaler&#x27;, StandardScaler()),\n",
       "                (&#x27;grid&#x27;,\n",
       "                 GridSearchCV(cv=10, estimator=MLPRegressor(),\n",
       "                              param_grid={&#x27;activation&#x27;: [&#x27;relu&#x27;, &#x27;tanh&#x27;,\n",
       "                                                         &#x27;logistic&#x27;],\n",
       "                                          &#x27;alpha&#x27;: [0.0001, 0.05],\n",
       "                                          &#x27;batch_size&#x27;: [32, 64, 128],\n",
       "                                          &#x27;hidden_layer_sizes&#x27;: [(50, 50, 50),\n",
       "                                                                 (50, 100, 50),\n",
       "                                                                 (100, 1)],\n",
       "                                          &#x27;learning_rate&#x27;: [&#x27;constant&#x27;,\n",
       "                                                            &#x27;adaptive&#x27;]}))])</pre><b>In a Jupyter environment, please rerun this cell to show the HTML representation or trust the notebook. <br />On GitHub, the HTML representation is unable to render, please try loading this page with nbviewer.org.</b></div><div class=\"sk-container\" hidden><div class=\"sk-item sk-dashed-wrapped\"><div class=\"sk-label-container\"><div class=\"sk-label sk-toggleable\"><input class=\"sk-toggleable__control sk-hidden--visually\" id=\"sk-estimator-id-13\" type=\"checkbox\" ><label for=\"sk-estimator-id-13\" class=\"sk-toggleable__label sk-toggleable__label-arrow\">Pipeline</label><div class=\"sk-toggleable__content\"><pre>Pipeline(steps=[(&#x27;Scaler&#x27;, StandardScaler()),\n",
       "                (&#x27;grid&#x27;,\n",
       "                 GridSearchCV(cv=10, estimator=MLPRegressor(),\n",
       "                              param_grid={&#x27;activation&#x27;: [&#x27;relu&#x27;, &#x27;tanh&#x27;,\n",
       "                                                         &#x27;logistic&#x27;],\n",
       "                                          &#x27;alpha&#x27;: [0.0001, 0.05],\n",
       "                                          &#x27;batch_size&#x27;: [32, 64, 128],\n",
       "                                          &#x27;hidden_layer_sizes&#x27;: [(50, 50, 50),\n",
       "                                                                 (50, 100, 50),\n",
       "                                                                 (100, 1)],\n",
       "                                          &#x27;learning_rate&#x27;: [&#x27;constant&#x27;,\n",
       "                                                            &#x27;adaptive&#x27;]}))])</pre></div></div></div><div class=\"sk-serial\"><div class=\"sk-item\"><div class=\"sk-estimator sk-toggleable\"><input class=\"sk-toggleable__control sk-hidden--visually\" id=\"sk-estimator-id-14\" type=\"checkbox\" ><label for=\"sk-estimator-id-14\" class=\"sk-toggleable__label sk-toggleable__label-arrow\">StandardScaler</label><div class=\"sk-toggleable__content\"><pre>StandardScaler()</pre></div></div></div><div class=\"sk-item sk-dashed-wrapped\"><div class=\"sk-label-container\"><div class=\"sk-label sk-toggleable\"><input class=\"sk-toggleable__control sk-hidden--visually\" id=\"sk-estimator-id-15\" type=\"checkbox\" ><label for=\"sk-estimator-id-15\" class=\"sk-toggleable__label sk-toggleable__label-arrow\">grid: GridSearchCV</label><div class=\"sk-toggleable__content\"><pre>GridSearchCV(cv=10, estimator=MLPRegressor(),\n",
       "             param_grid={&#x27;activation&#x27;: [&#x27;relu&#x27;, &#x27;tanh&#x27;, &#x27;logistic&#x27;],\n",
       "                         &#x27;alpha&#x27;: [0.0001, 0.05], &#x27;batch_size&#x27;: [32, 64, 128],\n",
       "                         &#x27;hidden_layer_sizes&#x27;: [(50, 50, 50), (50, 100, 50),\n",
       "                                                (100, 1)],\n",
       "                         &#x27;learning_rate&#x27;: [&#x27;constant&#x27;, &#x27;adaptive&#x27;]})</pre></div></div></div><div class=\"sk-parallel\"><div class=\"sk-parallel-item\"><div class=\"sk-item\"><div class=\"sk-label-container\"><div class=\"sk-label sk-toggleable\"><input class=\"sk-toggleable__control sk-hidden--visually\" id=\"sk-estimator-id-16\" type=\"checkbox\" ><label for=\"sk-estimator-id-16\" class=\"sk-toggleable__label sk-toggleable__label-arrow\">estimator: MLPRegressor</label><div class=\"sk-toggleable__content\"><pre>MLPRegressor()</pre></div></div></div><div class=\"sk-serial\"><div class=\"sk-item\"><div class=\"sk-estimator sk-toggleable\"><input class=\"sk-toggleable__control sk-hidden--visually\" id=\"sk-estimator-id-17\" type=\"checkbox\" ><label for=\"sk-estimator-id-17\" class=\"sk-toggleable__label sk-toggleable__label-arrow\">MLPRegressor</label><div class=\"sk-toggleable__content\"><pre>MLPRegressor()</pre></div></div></div></div></div></div></div></div></div></div></div></div>"
      ],
      "text/plain": [
       "Pipeline(steps=[('Scaler', StandardScaler()),\n",
       "                ('grid',\n",
       "                 GridSearchCV(cv=10, estimator=MLPRegressor(),\n",
       "                              param_grid={'activation': ['relu', 'tanh',\n",
       "                                                         'logistic'],\n",
       "                                          'alpha': [0.0001, 0.05],\n",
       "                                          'batch_size': [32, 64, 128],\n",
       "                                          'hidden_layer_sizes': [(50, 50, 50),\n",
       "                                                                 (50, 100, 50),\n",
       "                                                                 (100, 1)],\n",
       "                                          'learning_rate': ['constant',\n",
       "                                                            'adaptive']}))])"
      ]
     },
     "execution_count": 76,
     "metadata": {},
     "output_type": "execute_result"
    }
   ],
   "source": [
    "param_grid = {'hidden_layer_sizes': [(50,50,50), (50,100,50), (100,1)],\n",
    "          'activation': ['relu','tanh','logistic'],\n",
    "          'alpha': [0.0001, 0.05],\n",
    "          'learning_rate': ['constant','adaptive'],\n",
    "          'batch_size' : [32,64,128]\n",
    "          }\n",
    "gridCV = GridSearchCV(MLPRegressor(), param_grid=param_grid,cv=10)\n",
    "pipe = Pipeline([('Scaler', StandardScaler()),('grid',gridCV)])\n",
    "pipe.fit(X_new,y_new.ravel())\n",
    "#joblib.dump(pipe,f'{saved_model_path}/MLP_hardness_iter1.pt')"
   ]
  },
  {
   "cell_type": "code",
   "execution_count": 77,
   "metadata": {},
   "outputs": [
    {
     "data": {
      "text/plain": [
       "{'activation': 'tanh',\n",
       " 'alpha': 0.05,\n",
       " 'batch_size': 32,\n",
       " 'hidden_layer_sizes': (50, 100, 50),\n",
       " 'learning_rate': 'constant'}"
      ]
     },
     "execution_count": 77,
     "metadata": {},
     "output_type": "execute_result"
    }
   ],
   "source": [
    "pipe['grid'].best_params_"
   ]
  },
  {
   "cell_type": "code",
   "execution_count": 78,
   "metadata": {},
   "outputs": [],
   "source": [
    "from sklearn.model_selection import KFold\n",
    "kf = KFold(n_splits=10, random_state=0, shuffle = True)\n",
    "true, predict = [],[]\n",
    "v = []\n",
    "for i,(train_inds, test_inds) in enumerate(kf.split(X_new)):\n",
    "    X_train, y_train = X_new[train_inds], y_new[train_inds].ravel()\n",
    "    X_test, y_test = X_new[test_inds],y_new[test_inds].ravel()\n",
    "    model = Pipeline([('Scaler', StandardScaler()),('mlp',MLPRegressor(activation = 'tanh', alpha = 0.05, batch_size = 32,hidden_layer_sizes = (50, 100, 50),learning_rate = 'constant'))])\n",
    "    model.fit(X_train, y_train)\n",
    "    y_pred = model.predict(X_test)\n",
    "    true.extend(y_test)\n",
    "    predict.extend(y_pred)\n",
    "    v.extend([i]*len(y_pred))\n",
    "    with open(f'saved_models/hardness_models/iter1a/mlp_{i}.pkl','wb') as fid:\n",
    "        pickle.dump(model,fid)"
   ]
  },
  {
   "cell_type": "code",
   "execution_count": 81,
   "metadata": {},
   "outputs": [],
   "source": [
    "models = os.listdir('saved_models/hardness_models/iter1a')\n",
    "preds = []\n",
    "for model_name in models:\n",
    "    with open(os.path.join('saved_models/hardness_models/iter1a',model_name),'rb') as fid:\n",
    "        model = pickle.load(fid)\n",
    "    preds.append(model.predict(X_exp))\n",
    "all_preds = np.array(preds).T\n",
    "preds_mean = all_preds.mean(axis=1)\n",
    "preds_std = all_preds.std(axis=1)\n",
    "preds_mean, preds_std\n",
    "from uncertainties import ufloat\n",
    "y_exp_predict = [ufloat(x,y) for x,y in zip(preds_mean, preds_std)]\n",
    "experimental_df['Iteration 2 predictions'] = y_exp_predict"
   ]
  },
  {
   "cell_type": "code",
   "execution_count": 82,
   "metadata": {},
   "outputs": [
    {
     "data": {
      "text/html": [
       "<div>\n",
       "<style scoped>\n",
       "    .dataframe tbody tr th:only-of-type {\n",
       "        vertical-align: middle;\n",
       "    }\n",
       "\n",
       "    .dataframe tbody tr th {\n",
       "        vertical-align: top;\n",
       "    }\n",
       "\n",
       "    .dataframe thead th {\n",
       "        text-align: right;\n",
       "    }\n",
       "</style>\n",
       "<table border=\"1\" class=\"dataframe\">\n",
       "  <thead>\n",
       "    <tr style=\"text-align: right;\">\n",
       "      <th></th>\n",
       "      <th>Composition</th>\n",
       "      <th>HardGPa</th>\n",
       "      <th>Iteration 1 predictions</th>\n",
       "      <th>Iteration 2 predictions</th>\n",
       "    </tr>\n",
       "  </thead>\n",
       "  <tbody>\n",
       "    <tr>\n",
       "      <th>0</th>\n",
       "      <td>Nb0.37Mo0.52W0.11</td>\n",
       "      <td>5.2</td>\n",
       "      <td>3.4+/-1.0</td>\n",
       "      <td>5.24+/-0.25</td>\n",
       "    </tr>\n",
       "    <tr>\n",
       "      <th>1</th>\n",
       "      <td>Nb0.49Mo0.07W0.44</td>\n",
       "      <td>5.8</td>\n",
       "      <td>5.1+/-2.4</td>\n",
       "      <td>5.70+/-0.17</td>\n",
       "    </tr>\n",
       "    <tr>\n",
       "      <th>2</th>\n",
       "      <td>Nb0.57Mo0.33W0.10</td>\n",
       "      <td>5.4</td>\n",
       "      <td>3.8+/-1.9</td>\n",
       "      <td>5.45+/-0.27</td>\n",
       "    </tr>\n",
       "    <tr>\n",
       "      <th>3</th>\n",
       "      <td>Nb0.32Mo0.44W0.24</td>\n",
       "      <td>5.2</td>\n",
       "      <td>3.7+/-0.9</td>\n",
       "      <td>5.17+/-0.28</td>\n",
       "    </tr>\n",
       "    <tr>\n",
       "      <th>4</th>\n",
       "      <td>Nb0.425Mo0.167W0.407</td>\n",
       "      <td>6.0</td>\n",
       "      <td>4.3+/-2.1</td>\n",
       "      <td>5.73+/-0.28</td>\n",
       "    </tr>\n",
       "    <tr>\n",
       "      <th>5</th>\n",
       "      <td>Nb0.33Mo0.327W0.344</td>\n",
       "      <td>5.6</td>\n",
       "      <td>3.9+/-1.0</td>\n",
       "      <td>5.20+/-0.31</td>\n",
       "    </tr>\n",
       "    <tr>\n",
       "      <th>6</th>\n",
       "      <td>Nb0.17W0.32Zr0.18Ti0.32</td>\n",
       "      <td>4.9</td>\n",
       "      <td>2.4+/-0.7</td>\n",
       "      <td>3.27+/-0.24</td>\n",
       "    </tr>\n",
       "    <tr>\n",
       "      <th>7</th>\n",
       "      <td>Nb0.06Mo0.03W0.27Zr0.3Ti0.3V0.03</td>\n",
       "      <td>4.4</td>\n",
       "      <td>2.7+/-0.8</td>\n",
       "      <td>3.11+/-0.30</td>\n",
       "    </tr>\n",
       "    <tr>\n",
       "      <th>8</th>\n",
       "      <td>Nb0.47Mo0.13W0.07Zr0.17Ti0.03V0.13</td>\n",
       "      <td>5.0</td>\n",
       "      <td>4.0+/-0.9</td>\n",
       "      <td>5.00+/-0.34</td>\n",
       "    </tr>\n",
       "  </tbody>\n",
       "</table>\n",
       "</div>"
      ],
      "text/plain": [
       "                          Composition  HardGPa Iteration 1 predictions  \\\n",
       "0                   Nb0.37Mo0.52W0.11      5.2               3.4+/-1.0   \n",
       "1                   Nb0.49Mo0.07W0.44      5.8               5.1+/-2.4   \n",
       "2                   Nb0.57Mo0.33W0.10      5.4               3.8+/-1.9   \n",
       "3                   Nb0.32Mo0.44W0.24      5.2               3.7+/-0.9   \n",
       "4                Nb0.425Mo0.167W0.407      6.0               4.3+/-2.1   \n",
       "5                 Nb0.33Mo0.327W0.344      5.6               3.9+/-1.0   \n",
       "6             Nb0.17W0.32Zr0.18Ti0.32      4.9               2.4+/-0.7   \n",
       "7    Nb0.06Mo0.03W0.27Zr0.3Ti0.3V0.03      4.4               2.7+/-0.8   \n",
       "8  Nb0.47Mo0.13W0.07Zr0.17Ti0.03V0.13      5.0               4.0+/-0.9   \n",
       "\n",
       "  Iteration 2 predictions  \n",
       "0             5.24+/-0.25  \n",
       "1             5.70+/-0.17  \n",
       "2             5.45+/-0.27  \n",
       "3             5.17+/-0.28  \n",
       "4             5.73+/-0.28  \n",
       "5             5.20+/-0.31  \n",
       "6             3.27+/-0.24  \n",
       "7             3.11+/-0.30  \n",
       "8             5.00+/-0.34  "
      ]
     },
     "execution_count": 82,
     "metadata": {},
     "output_type": "execute_result"
    }
   ],
   "source": [
    "experimental_df"
   ]
  },
  {
   "attachments": {},
   "cell_type": "markdown",
   "metadata": {},
   "source": [
    "## d-f"
   ]
  },
  {
   "cell_type": "code",
   "execution_count": 84,
   "metadata": {},
   "outputs": [
    {
     "data": {
      "text/html": [
       "<style>#sk-container-id-6 {color: black;background-color: white;}#sk-container-id-6 pre{padding: 0;}#sk-container-id-6 div.sk-toggleable {background-color: white;}#sk-container-id-6 label.sk-toggleable__label {cursor: pointer;display: block;width: 100%;margin-bottom: 0;padding: 0.3em;box-sizing: border-box;text-align: center;}#sk-container-id-6 label.sk-toggleable__label-arrow:before {content: \"▸\";float: left;margin-right: 0.25em;color: #696969;}#sk-container-id-6 label.sk-toggleable__label-arrow:hover:before {color: black;}#sk-container-id-6 div.sk-estimator:hover label.sk-toggleable__label-arrow:before {color: black;}#sk-container-id-6 div.sk-toggleable__content {max-height: 0;max-width: 0;overflow: hidden;text-align: left;background-color: #f0f8ff;}#sk-container-id-6 div.sk-toggleable__content pre {margin: 0.2em;color: black;border-radius: 0.25em;background-color: #f0f8ff;}#sk-container-id-6 input.sk-toggleable__control:checked~div.sk-toggleable__content {max-height: 200px;max-width: 100%;overflow: auto;}#sk-container-id-6 input.sk-toggleable__control:checked~label.sk-toggleable__label-arrow:before {content: \"▾\";}#sk-container-id-6 div.sk-estimator input.sk-toggleable__control:checked~label.sk-toggleable__label {background-color: #d4ebff;}#sk-container-id-6 div.sk-label input.sk-toggleable__control:checked~label.sk-toggleable__label {background-color: #d4ebff;}#sk-container-id-6 input.sk-hidden--visually {border: 0;clip: rect(1px 1px 1px 1px);clip: rect(1px, 1px, 1px, 1px);height: 1px;margin: -1px;overflow: hidden;padding: 0;position: absolute;width: 1px;}#sk-container-id-6 div.sk-estimator {font-family: monospace;background-color: #f0f8ff;border: 1px dotted black;border-radius: 0.25em;box-sizing: border-box;margin-bottom: 0.5em;}#sk-container-id-6 div.sk-estimator:hover {background-color: #d4ebff;}#sk-container-id-6 div.sk-parallel-item::after {content: \"\";width: 100%;border-bottom: 1px solid gray;flex-grow: 1;}#sk-container-id-6 div.sk-label:hover label.sk-toggleable__label {background-color: #d4ebff;}#sk-container-id-6 div.sk-serial::before {content: \"\";position: absolute;border-left: 1px solid gray;box-sizing: border-box;top: 0;bottom: 0;left: 50%;z-index: 0;}#sk-container-id-6 div.sk-serial {display: flex;flex-direction: column;align-items: center;background-color: white;padding-right: 0.2em;padding-left: 0.2em;position: relative;}#sk-container-id-6 div.sk-item {position: relative;z-index: 1;}#sk-container-id-6 div.sk-parallel {display: flex;align-items: stretch;justify-content: center;background-color: white;position: relative;}#sk-container-id-6 div.sk-item::before, #sk-container-id-6 div.sk-parallel-item::before {content: \"\";position: absolute;border-left: 1px solid gray;box-sizing: border-box;top: 0;bottom: 0;left: 50%;z-index: -1;}#sk-container-id-6 div.sk-parallel-item {display: flex;flex-direction: column;z-index: 1;position: relative;background-color: white;}#sk-container-id-6 div.sk-parallel-item:first-child::after {align-self: flex-end;width: 50%;}#sk-container-id-6 div.sk-parallel-item:last-child::after {align-self: flex-start;width: 50%;}#sk-container-id-6 div.sk-parallel-item:only-child::after {width: 0;}#sk-container-id-6 div.sk-dashed-wrapped {border: 1px dashed gray;margin: 0 0.4em 0.5em 0.4em;box-sizing: border-box;padding-bottom: 0.4em;background-color: white;}#sk-container-id-6 div.sk-label label {font-family: monospace;font-weight: bold;display: inline-block;line-height: 1.2em;}#sk-container-id-6 div.sk-label-container {text-align: center;}#sk-container-id-6 div.sk-container {/* jupyter's `normalize.less` sets `[hidden] { display: none; }` but bootstrap.min.css set `[hidden] { display: none !important; }` so we also need the `!important` here to be able to override the default hidden behavior on the sphinx rendered scikit-learn.org. See: https://github.com/scikit-learn/scikit-learn/issues/21755 */display: inline-block !important;position: relative;}#sk-container-id-6 div.sk-text-repr-fallback {display: none;}</style><div id=\"sk-container-id-6\" class=\"sk-top-container\"><div class=\"sk-text-repr-fallback\"><pre>Pipeline(steps=[(&#x27;Scaler&#x27;, StandardScaler()),\n",
       "                (&#x27;grid&#x27;,\n",
       "                 GridSearchCV(cv=10, estimator=MLPRegressor(),\n",
       "                              param_grid={&#x27;activation&#x27;: [&#x27;relu&#x27;, &#x27;tanh&#x27;,\n",
       "                                                         &#x27;logistic&#x27;],\n",
       "                                          &#x27;alpha&#x27;: [0.0001, 0.05],\n",
       "                                          &#x27;batch_size&#x27;: [32, 64, 128],\n",
       "                                          &#x27;hidden_layer_sizes&#x27;: [(50, 50, 50),\n",
       "                                                                 (50, 100, 50),\n",
       "                                                                 (100, 1)],\n",
       "                                          &#x27;learning_rate&#x27;: [&#x27;constant&#x27;,\n",
       "                                                            &#x27;adaptive&#x27;]}))])</pre><b>In a Jupyter environment, please rerun this cell to show the HTML representation or trust the notebook. <br />On GitHub, the HTML representation is unable to render, please try loading this page with nbviewer.org.</b></div><div class=\"sk-container\" hidden><div class=\"sk-item sk-dashed-wrapped\"><div class=\"sk-label-container\"><div class=\"sk-label sk-toggleable\"><input class=\"sk-toggleable__control sk-hidden--visually\" id=\"sk-estimator-id-18\" type=\"checkbox\" ><label for=\"sk-estimator-id-18\" class=\"sk-toggleable__label sk-toggleable__label-arrow\">Pipeline</label><div class=\"sk-toggleable__content\"><pre>Pipeline(steps=[(&#x27;Scaler&#x27;, StandardScaler()),\n",
       "                (&#x27;grid&#x27;,\n",
       "                 GridSearchCV(cv=10, estimator=MLPRegressor(),\n",
       "                              param_grid={&#x27;activation&#x27;: [&#x27;relu&#x27;, &#x27;tanh&#x27;,\n",
       "                                                         &#x27;logistic&#x27;],\n",
       "                                          &#x27;alpha&#x27;: [0.0001, 0.05],\n",
       "                                          &#x27;batch_size&#x27;: [32, 64, 128],\n",
       "                                          &#x27;hidden_layer_sizes&#x27;: [(50, 50, 50),\n",
       "                                                                 (50, 100, 50),\n",
       "                                                                 (100, 1)],\n",
       "                                          &#x27;learning_rate&#x27;: [&#x27;constant&#x27;,\n",
       "                                                            &#x27;adaptive&#x27;]}))])</pre></div></div></div><div class=\"sk-serial\"><div class=\"sk-item\"><div class=\"sk-estimator sk-toggleable\"><input class=\"sk-toggleable__control sk-hidden--visually\" id=\"sk-estimator-id-19\" type=\"checkbox\" ><label for=\"sk-estimator-id-19\" class=\"sk-toggleable__label sk-toggleable__label-arrow\">StandardScaler</label><div class=\"sk-toggleable__content\"><pre>StandardScaler()</pre></div></div></div><div class=\"sk-item sk-dashed-wrapped\"><div class=\"sk-label-container\"><div class=\"sk-label sk-toggleable\"><input class=\"sk-toggleable__control sk-hidden--visually\" id=\"sk-estimator-id-20\" type=\"checkbox\" ><label for=\"sk-estimator-id-20\" class=\"sk-toggleable__label sk-toggleable__label-arrow\">grid: GridSearchCV</label><div class=\"sk-toggleable__content\"><pre>GridSearchCV(cv=10, estimator=MLPRegressor(),\n",
       "             param_grid={&#x27;activation&#x27;: [&#x27;relu&#x27;, &#x27;tanh&#x27;, &#x27;logistic&#x27;],\n",
       "                         &#x27;alpha&#x27;: [0.0001, 0.05], &#x27;batch_size&#x27;: [32, 64, 128],\n",
       "                         &#x27;hidden_layer_sizes&#x27;: [(50, 50, 50), (50, 100, 50),\n",
       "                                                (100, 1)],\n",
       "                         &#x27;learning_rate&#x27;: [&#x27;constant&#x27;, &#x27;adaptive&#x27;]})</pre></div></div></div><div class=\"sk-parallel\"><div class=\"sk-parallel-item\"><div class=\"sk-item\"><div class=\"sk-label-container\"><div class=\"sk-label sk-toggleable\"><input class=\"sk-toggleable__control sk-hidden--visually\" id=\"sk-estimator-id-21\" type=\"checkbox\" ><label for=\"sk-estimator-id-21\" class=\"sk-toggleable__label sk-toggleable__label-arrow\">estimator: MLPRegressor</label><div class=\"sk-toggleable__content\"><pre>MLPRegressor()</pre></div></div></div><div class=\"sk-serial\"><div class=\"sk-item\"><div class=\"sk-estimator sk-toggleable\"><input class=\"sk-toggleable__control sk-hidden--visually\" id=\"sk-estimator-id-22\" type=\"checkbox\" ><label for=\"sk-estimator-id-22\" class=\"sk-toggleable__label sk-toggleable__label-arrow\">MLPRegressor</label><div class=\"sk-toggleable__content\"><pre>MLPRegressor()</pre></div></div></div></div></div></div></div></div></div></div></div></div>"
      ],
      "text/plain": [
       "Pipeline(steps=[('Scaler', StandardScaler()),\n",
       "                ('grid',\n",
       "                 GridSearchCV(cv=10, estimator=MLPRegressor(),\n",
       "                              param_grid={'activation': ['relu', 'tanh',\n",
       "                                                         'logistic'],\n",
       "                                          'alpha': [0.0001, 0.05],\n",
       "                                          'batch_size': [32, 64, 128],\n",
       "                                          'hidden_layer_sizes': [(50, 50, 50),\n",
       "                                                                 (50, 100, 50),\n",
       "                                                                 (100, 1)],\n",
       "                                          'learning_rate': ['constant',\n",
       "                                                            'adaptive']}))])"
      ]
     },
     "execution_count": 84,
     "metadata": {},
     "output_type": "execute_result"
    }
   ],
   "source": [
    "PTR_features_new = np.concatenate([PTR_features,exp_PTR_features[3:]],axis=0)\n",
    "hardGPa_new = np.concatenate([hardGPa,experimental_hardGPa[3:]],axis=0)\n",
    "X_new = pca.transform(PTR_features_new)\n",
    "y_new = hardGPa_new\n",
    "param_grid = {'hidden_layer_sizes': [(50,50,50), (50,100,50), (100,1)],\n",
    "          'activation': ['relu','tanh','logistic'],\n",
    "          'alpha': [0.0001, 0.05],\n",
    "          'learning_rate': ['constant','adaptive'],\n",
    "          'batch_size' : [32,64,128]\n",
    "          }\n",
    "gridCV = GridSearchCV(MLPRegressor(), param_grid=param_grid,cv=10)\n",
    "pipe = Pipeline([('Scaler', StandardScaler()),('grid',gridCV)])\n",
    "pipe.fit(X_new,y_new.ravel())\n",
    "#joblib.dump(pipe,f'{saved_model_path}/MLP_hardness_iter1b.pt')"
   ]
  },
  {
   "cell_type": "code",
   "execution_count": 85,
   "metadata": {},
   "outputs": [
    {
     "data": {
      "text/plain": [
       "{'activation': 'tanh',\n",
       " 'alpha': 0.0001,\n",
       " 'batch_size': 32,\n",
       " 'hidden_layer_sizes': (50, 50, 50),\n",
       " 'learning_rate': 'constant'}"
      ]
     },
     "execution_count": 85,
     "metadata": {},
     "output_type": "execute_result"
    }
   ],
   "source": [
    "pipe['grid'].best_params_"
   ]
  },
  {
   "cell_type": "code",
   "execution_count": 86,
   "metadata": {},
   "outputs": [],
   "source": [
    "from sklearn.model_selection import KFold\n",
    "kf = KFold(n_splits=10, random_state=0, shuffle = True)\n",
    "true, predict = [],[]\n",
    "v = []\n",
    "for i,(train_inds, test_inds) in enumerate(kf.split(X_new)):\n",
    "    X_train, y_train = X_new[train_inds], y_new[train_inds].ravel()\n",
    "    X_test, y_test = X_new[test_inds],y_new[test_inds].ravel()\n",
    "    model = Pipeline([('Scaler', StandardScaler()),('mlp',MLPRegressor(activation = 'tanh', alpha = 0.0001, batch_size = 32,hidden_layer_sizes = (50, 50, 50),learning_rate = 'constant'))])\n",
    "    model.fit(X_train, y_train)\n",
    "    y_pred = model.predict(X_test)\n",
    "    true.extend(y_test)\n",
    "    predict.extend(y_pred)\n",
    "    v.extend([i]*len(y_pred))\n",
    "    with open(f'saved_models/hardness_models/iter1b/mlp_{i}.pkl','wb') as fid:\n",
    "        pickle.dump(model,fid)"
   ]
  },
  {
   "cell_type": "code",
   "execution_count": 87,
   "metadata": {},
   "outputs": [],
   "source": [
    "models = os.listdir('saved_models/hardness_models/iter1b')\n",
    "preds = []\n",
    "for model_name in models:\n",
    "    with open(os.path.join('saved_models/hardness_models/iter1b',model_name),'rb') as fid:\n",
    "        model = pickle.load(fid)\n",
    "    preds.append(model.predict(X_exp))\n",
    "all_preds = np.array(preds).T\n",
    "preds_mean = all_preds.mean(axis=1)\n",
    "preds_std = all_preds.std(axis=1)\n",
    "preds_mean, preds_std\n",
    "from uncertainties import ufloat\n",
    "y_exp_predict = [ufloat(x,y) for x,y in zip(preds_mean, preds_std)]\n",
    "experimental_df['Iteration 2b predictions'] = y_exp_predict"
   ]
  },
  {
   "cell_type": "code",
   "execution_count": 88,
   "metadata": {},
   "outputs": [
    {
     "data": {
      "text/html": [
       "<div>\n",
       "<style scoped>\n",
       "    .dataframe tbody tr th:only-of-type {\n",
       "        vertical-align: middle;\n",
       "    }\n",
       "\n",
       "    .dataframe tbody tr th {\n",
       "        vertical-align: top;\n",
       "    }\n",
       "\n",
       "    .dataframe thead th {\n",
       "        text-align: right;\n",
       "    }\n",
       "</style>\n",
       "<table border=\"1\" class=\"dataframe\">\n",
       "  <thead>\n",
       "    <tr style=\"text-align: right;\">\n",
       "      <th></th>\n",
       "      <th>Composition</th>\n",
       "      <th>HardGPa</th>\n",
       "      <th>Iteration 1 predictions</th>\n",
       "      <th>Iteration 2 predictions</th>\n",
       "      <th>Iteration 2b predictions</th>\n",
       "    </tr>\n",
       "  </thead>\n",
       "  <tbody>\n",
       "    <tr>\n",
       "      <th>0</th>\n",
       "      <td>Nb0.37Mo0.52W0.11</td>\n",
       "      <td>5.2</td>\n",
       "      <td>3.4+/-1.0</td>\n",
       "      <td>5.24+/-0.25</td>\n",
       "      <td>4.9+/-0.4</td>\n",
       "    </tr>\n",
       "    <tr>\n",
       "      <th>1</th>\n",
       "      <td>Nb0.49Mo0.07W0.44</td>\n",
       "      <td>5.8</td>\n",
       "      <td>5.1+/-2.4</td>\n",
       "      <td>5.70+/-0.17</td>\n",
       "      <td>5.4+/-0.7</td>\n",
       "    </tr>\n",
       "    <tr>\n",
       "      <th>2</th>\n",
       "      <td>Nb0.57Mo0.33W0.10</td>\n",
       "      <td>5.4</td>\n",
       "      <td>3.8+/-1.9</td>\n",
       "      <td>5.45+/-0.27</td>\n",
       "      <td>5.0+/-0.7</td>\n",
       "    </tr>\n",
       "    <tr>\n",
       "      <th>3</th>\n",
       "      <td>Nb0.32Mo0.44W0.24</td>\n",
       "      <td>5.2</td>\n",
       "      <td>3.7+/-0.9</td>\n",
       "      <td>5.17+/-0.28</td>\n",
       "      <td>5.11+/-0.11</td>\n",
       "    </tr>\n",
       "    <tr>\n",
       "      <th>4</th>\n",
       "      <td>Nb0.425Mo0.167W0.407</td>\n",
       "      <td>6.0</td>\n",
       "      <td>4.3+/-2.1</td>\n",
       "      <td>5.73+/-0.28</td>\n",
       "      <td>5.8+/-0.4</td>\n",
       "    </tr>\n",
       "    <tr>\n",
       "      <th>5</th>\n",
       "      <td>Nb0.33Mo0.327W0.344</td>\n",
       "      <td>5.6</td>\n",
       "      <td>3.9+/-1.0</td>\n",
       "      <td>5.20+/-0.31</td>\n",
       "      <td>5.36+/-0.21</td>\n",
       "    </tr>\n",
       "    <tr>\n",
       "      <th>6</th>\n",
       "      <td>Nb0.17W0.32Zr0.18Ti0.32</td>\n",
       "      <td>4.9</td>\n",
       "      <td>2.4+/-0.7</td>\n",
       "      <td>3.27+/-0.24</td>\n",
       "      <td>4.47+/-0.34</td>\n",
       "    </tr>\n",
       "    <tr>\n",
       "      <th>7</th>\n",
       "      <td>Nb0.06Mo0.03W0.27Zr0.3Ti0.3V0.03</td>\n",
       "      <td>4.4</td>\n",
       "      <td>2.7+/-0.8</td>\n",
       "      <td>3.11+/-0.30</td>\n",
       "      <td>4.0+/-0.4</td>\n",
       "    </tr>\n",
       "    <tr>\n",
       "      <th>8</th>\n",
       "      <td>Nb0.47Mo0.13W0.07Zr0.17Ti0.03V0.13</td>\n",
       "      <td>5.0</td>\n",
       "      <td>4.0+/-0.9</td>\n",
       "      <td>5.00+/-0.34</td>\n",
       "      <td>5.01+/-0.21</td>\n",
       "    </tr>\n",
       "  </tbody>\n",
       "</table>\n",
       "</div>"
      ],
      "text/plain": [
       "                          Composition  HardGPa Iteration 1 predictions  \\\n",
       "0                   Nb0.37Mo0.52W0.11      5.2               3.4+/-1.0   \n",
       "1                   Nb0.49Mo0.07W0.44      5.8               5.1+/-2.4   \n",
       "2                   Nb0.57Mo0.33W0.10      5.4               3.8+/-1.9   \n",
       "3                   Nb0.32Mo0.44W0.24      5.2               3.7+/-0.9   \n",
       "4                Nb0.425Mo0.167W0.407      6.0               4.3+/-2.1   \n",
       "5                 Nb0.33Mo0.327W0.344      5.6               3.9+/-1.0   \n",
       "6             Nb0.17W0.32Zr0.18Ti0.32      4.9               2.4+/-0.7   \n",
       "7    Nb0.06Mo0.03W0.27Zr0.3Ti0.3V0.03      4.4               2.7+/-0.8   \n",
       "8  Nb0.47Mo0.13W0.07Zr0.17Ti0.03V0.13      5.0               4.0+/-0.9   \n",
       "\n",
       "  Iteration 2 predictions Iteration 2b predictions  \n",
       "0             5.24+/-0.25                4.9+/-0.4  \n",
       "1             5.70+/-0.17                5.4+/-0.7  \n",
       "2             5.45+/-0.27                5.0+/-0.7  \n",
       "3             5.17+/-0.28              5.11+/-0.11  \n",
       "4             5.73+/-0.28                5.8+/-0.4  \n",
       "5             5.20+/-0.31              5.36+/-0.21  \n",
       "6             3.27+/-0.24              4.47+/-0.34  \n",
       "7             3.11+/-0.30                4.0+/-0.4  \n",
       "8             5.00+/-0.34              5.01+/-0.21  "
      ]
     },
     "execution_count": 88,
     "metadata": {},
     "output_type": "execute_result"
    }
   ],
   "source": [
    "experimental_df"
   ]
  },
  {
   "cell_type": "code",
   "execution_count": 99,
   "metadata": {},
   "outputs": [
    {
     "data": {
      "text/plain": [
       "1.009074091911316"
      ]
     },
     "execution_count": 99,
     "metadata": {},
     "output_type": "execute_result"
    }
   ],
   "source": [
    "to_plot = experimental_df.iloc[:6,1:].values\n",
    "to_plot[:,1][0].s"
   ]
  },
  {
   "cell_type": "code",
   "execution_count": 101,
   "metadata": {},
   "outputs": [
    {
     "ename": "TypeError",
     "evalue": "ufunc 'isfinite' not supported for the input types, and the inputs could not be safely coerced to any supported types according to the casting rule ''safe''",
     "output_type": "error",
     "traceback": [
      "\u001b[0;31m---------------------------------------------------------------------------\u001b[0m",
      "\u001b[0;31mTypeError\u001b[0m                                 Traceback (most recent call last)",
      "\u001b[1;32m/noether/s0/aqd5773/monbw_alloy_hardness/monbw_hardness_prediction.ipynb Cell 37\u001b[0m in \u001b[0;36m<cell line: 12>\u001b[0;34m()\u001b[0m\n\u001b[1;32m      <a href='vscode-notebook-cell://ssh-remote%2Bnoether.matse.psu.edu/noether/s0/aqd5773/monbw_alloy_hardness/monbw_hardness_prediction.ipynb#X36sdnNjb2RlLXJlbW90ZQ%3D%3D?line=8'>9</a>\u001b[0m iter2_std \u001b[39m=\u001b[39m [x\u001b[39m.\u001b[39ms \u001b[39mfor\u001b[39;00m x \u001b[39min\u001b[39;00m to_plot[:,\u001b[39m2\u001b[39m]]\n\u001b[1;32m     <a href='vscode-notebook-cell://ssh-remote%2Bnoether.matse.psu.edu/noether/s0/aqd5773/monbw_alloy_hardness/monbw_hardness_prediction.ipynb#X36sdnNjb2RlLXJlbW90ZQ%3D%3D?line=10'>11</a>\u001b[0m ax\u001b[39m.\u001b[39merrorbar(np\u001b[39m.\u001b[39marange(\u001b[39m1\u001b[39m,\u001b[39m7\u001b[39m),iter2_n,yerr\u001b[39m=\u001b[39miter2_std, marker \u001b[39m=\u001b[39m \u001b[39m'\u001b[39m\u001b[39mv\u001b[39m\u001b[39m'\u001b[39m, markersize \u001b[39m=\u001b[39m \u001b[39m15\u001b[39m, c \u001b[39m=\u001b[39m \u001b[39m'\u001b[39m\u001b[39mblue\u001b[39m\u001b[39m'\u001b[39m, markerfacecolor\u001b[39m=\u001b[39m\u001b[39m'\u001b[39m\u001b[39mwhite\u001b[39m\u001b[39m'\u001b[39m, label \u001b[39m=\u001b[39m \u001b[39m'\u001b[39m\u001b[39mIteration 1\u001b[39m\u001b[39m'\u001b[39m)\n\u001b[0;32m---> <a href='vscode-notebook-cell://ssh-remote%2Bnoether.matse.psu.edu/noether/s0/aqd5773/monbw_alloy_hardness/monbw_hardness_prediction.ipynb#X36sdnNjb2RlLXJlbW90ZQ%3D%3D?line=11'>12</a>\u001b[0m ax\u001b[39m.\u001b[39;49mfill_between(np\u001b[39m.\u001b[39;49marange(\u001b[39m1\u001b[39;49m,\u001b[39m7\u001b[39;49m), to_plot[:,\u001b[39m0\u001b[39;49m], iter1_n, color\u001b[39m=\u001b[39;49m\u001b[39m'\u001b[39;49m\u001b[39mpink\u001b[39;49m\u001b[39m'\u001b[39;49m, alpha\u001b[39m=\u001b[39;49m\u001b[39m0.5\u001b[39;49m)\n\u001b[1;32m     <a href='vscode-notebook-cell://ssh-remote%2Bnoether.matse.psu.edu/noether/s0/aqd5773/monbw_alloy_hardness/monbw_hardness_prediction.ipynb#X36sdnNjb2RlLXJlbW90ZQ%3D%3D?line=12'>13</a>\u001b[0m ax\u001b[39m.\u001b[39mfill_between(np\u001b[39m.\u001b[39marange(\u001b[39m1\u001b[39m,\u001b[39m7\u001b[39m), to_plot[:,\u001b[39m0\u001b[39m], iter2_n, color\u001b[39m=\u001b[39m\u001b[39m'\u001b[39m\u001b[39mgreen\u001b[39m\u001b[39m'\u001b[39m, alpha\u001b[39m=\u001b[39m\u001b[39m0.5\u001b[39m)\n\u001b[1;32m     <a href='vscode-notebook-cell://ssh-remote%2Bnoether.matse.psu.edu/noether/s0/aqd5773/monbw_alloy_hardness/monbw_hardness_prediction.ipynb#X36sdnNjb2RlLXJlbW90ZQ%3D%3D?line=13'>14</a>\u001b[0m ax\u001b[39m.\u001b[39mset_xticks(np\u001b[39m.\u001b[39marange(\u001b[39m1\u001b[39m,\u001b[39m7\u001b[39m), [\u001b[39m'\u001b[39m\u001b[39mA\u001b[39m\u001b[39m'\u001b[39m,\u001b[39m'\u001b[39m\u001b[39mB\u001b[39m\u001b[39m'\u001b[39m,\u001b[39m'\u001b[39m\u001b[39mC\u001b[39m\u001b[39m'\u001b[39m,\u001b[39m'\u001b[39m\u001b[39mD\u001b[39m\u001b[39m'\u001b[39m,\u001b[39m'\u001b[39m\u001b[39mE\u001b[39m\u001b[39m'\u001b[39m,\u001b[39m'\u001b[39m\u001b[39mF\u001b[39m\u001b[39m'\u001b[39m])\n",
      "File \u001b[0;32m/noether/s0/aqd5773/anaconda3/envs/monbw_alloy_hardness/lib/python3.10/site-packages/matplotlib/__init__.py:1412\u001b[0m, in \u001b[0;36m_preprocess_data.<locals>.inner\u001b[0;34m(ax, data, *args, **kwargs)\u001b[0m\n\u001b[1;32m   1409\u001b[0m \u001b[39m@functools\u001b[39m\u001b[39m.\u001b[39mwraps(func)\n\u001b[1;32m   1410\u001b[0m \u001b[39mdef\u001b[39;00m \u001b[39minner\u001b[39m(ax, \u001b[39m*\u001b[39margs, data\u001b[39m=\u001b[39m\u001b[39mNone\u001b[39;00m, \u001b[39m*\u001b[39m\u001b[39m*\u001b[39mkwargs):\n\u001b[1;32m   1411\u001b[0m     \u001b[39mif\u001b[39;00m data \u001b[39mis\u001b[39;00m \u001b[39mNone\u001b[39;00m:\n\u001b[0;32m-> 1412\u001b[0m         \u001b[39mreturn\u001b[39;00m func(ax, \u001b[39m*\u001b[39m\u001b[39mmap\u001b[39m(sanitize_sequence, args), \u001b[39m*\u001b[39m\u001b[39m*\u001b[39mkwargs)\n\u001b[1;32m   1414\u001b[0m     bound \u001b[39m=\u001b[39m new_sig\u001b[39m.\u001b[39mbind(ax, \u001b[39m*\u001b[39margs, \u001b[39m*\u001b[39m\u001b[39m*\u001b[39mkwargs)\n\u001b[1;32m   1415\u001b[0m     auto_label \u001b[39m=\u001b[39m (bound\u001b[39m.\u001b[39marguments\u001b[39m.\u001b[39mget(label_namer)\n\u001b[1;32m   1416\u001b[0m                   \u001b[39mor\u001b[39;00m bound\u001b[39m.\u001b[39mkwargs\u001b[39m.\u001b[39mget(label_namer))\n",
      "File \u001b[0;32m/noether/s0/aqd5773/anaconda3/envs/monbw_alloy_hardness/lib/python3.10/site-packages/matplotlib/axes/_axes.py:5252\u001b[0m, in \u001b[0;36mAxes.fill_between\u001b[0;34m(self, x, y1, y2, where, interpolate, step, **kwargs)\u001b[0m\n\u001b[1;32m   5250\u001b[0m \u001b[39mdef\u001b[39;00m \u001b[39mfill_between\u001b[39m(\u001b[39mself\u001b[39m, x, y1, y2\u001b[39m=\u001b[39m\u001b[39m0\u001b[39m, where\u001b[39m=\u001b[39m\u001b[39mNone\u001b[39;00m, interpolate\u001b[39m=\u001b[39m\u001b[39mFalse\u001b[39;00m,\n\u001b[1;32m   5251\u001b[0m                  step\u001b[39m=\u001b[39m\u001b[39mNone\u001b[39;00m, \u001b[39m*\u001b[39m\u001b[39m*\u001b[39mkwargs):\n\u001b[0;32m-> 5252\u001b[0m     \u001b[39mreturn\u001b[39;00m \u001b[39mself\u001b[39;49m\u001b[39m.\u001b[39;49m_fill_between_x_or_y(\n\u001b[1;32m   5253\u001b[0m         \u001b[39m\"\u001b[39;49m\u001b[39mx\u001b[39;49m\u001b[39m\"\u001b[39;49m, x, y1, y2,\n\u001b[1;32m   5254\u001b[0m         where\u001b[39m=\u001b[39;49mwhere, interpolate\u001b[39m=\u001b[39;49minterpolate, step\u001b[39m=\u001b[39;49mstep, \u001b[39m*\u001b[39;49m\u001b[39m*\u001b[39;49mkwargs)\n",
      "File \u001b[0;32m/noether/s0/aqd5773/anaconda3/envs/monbw_alloy_hardness/lib/python3.10/site-packages/matplotlib/axes/_axes.py:5157\u001b[0m, in \u001b[0;36mAxes._fill_between_x_or_y\u001b[0;34m(self, ind_dir, ind, dep1, dep2, where, interpolate, step, **kwargs)\u001b[0m\n\u001b[1;32m   5153\u001b[0m         kwargs[\u001b[39m\"\u001b[39m\u001b[39mfacecolor\u001b[39m\u001b[39m\"\u001b[39m] \u001b[39m=\u001b[39m \\\n\u001b[1;32m   5154\u001b[0m             \u001b[39mself\u001b[39m\u001b[39m.\u001b[39m_get_patches_for_fill\u001b[39m.\u001b[39mget_next_color()\n\u001b[1;32m   5156\u001b[0m \u001b[39m# Handle united data, such as dates\u001b[39;00m\n\u001b[0;32m-> 5157\u001b[0m ind, dep1, dep2 \u001b[39m=\u001b[39m \u001b[39mmap\u001b[39m(\n\u001b[1;32m   5158\u001b[0m     ma\u001b[39m.\u001b[39mmasked_invalid, \u001b[39mself\u001b[39m\u001b[39m.\u001b[39m_process_unit_info(\n\u001b[1;32m   5159\u001b[0m         [(ind_dir, ind), (dep_dir, dep1), (dep_dir, dep2)], kwargs))\n\u001b[1;32m   5161\u001b[0m \u001b[39mfor\u001b[39;00m name, array \u001b[39min\u001b[39;00m [\n\u001b[1;32m   5162\u001b[0m         (ind_dir, ind), (\u001b[39mf\u001b[39m\u001b[39m\"\u001b[39m\u001b[39m{\u001b[39;00mdep_dir\u001b[39m}\u001b[39;00m\u001b[39m1\u001b[39m\u001b[39m\"\u001b[39m, dep1), (\u001b[39mf\u001b[39m\u001b[39m\"\u001b[39m\u001b[39m{\u001b[39;00mdep_dir\u001b[39m}\u001b[39;00m\u001b[39m2\u001b[39m\u001b[39m\"\u001b[39m, dep2)]:\n\u001b[1;32m   5163\u001b[0m     \u001b[39mif\u001b[39;00m array\u001b[39m.\u001b[39mndim \u001b[39m>\u001b[39m \u001b[39m1\u001b[39m:\n",
      "File \u001b[0;32m/noether/s0/aqd5773/anaconda3/envs/monbw_alloy_hardness/lib/python3.10/site-packages/numpy/ma/core.py:2366\u001b[0m, in \u001b[0;36mmasked_invalid\u001b[0;34m(a, copy)\u001b[0m\n\u001b[1;32m   2364\u001b[0m     \u001b[39mcls\u001b[39m \u001b[39m=\u001b[39m \u001b[39mtype\u001b[39m(a)\n\u001b[1;32m   2365\u001b[0m \u001b[39melse\u001b[39;00m:\n\u001b[0;32m-> 2366\u001b[0m     condition \u001b[39m=\u001b[39m \u001b[39m~\u001b[39m(np\u001b[39m.\u001b[39;49misfinite(a))\n\u001b[1;32m   2367\u001b[0m     \u001b[39mcls\u001b[39m \u001b[39m=\u001b[39m MaskedArray\n\u001b[1;32m   2368\u001b[0m result \u001b[39m=\u001b[39m a\u001b[39m.\u001b[39mview(\u001b[39mcls\u001b[39m)\n",
      "\u001b[0;31mTypeError\u001b[0m: ufunc 'isfinite' not supported for the input types, and the inputs could not be safely coerced to any supported types according to the casting rule ''safe''"
     ]
    },
    {
     "data": {
      "image/png": "[encoded data removed]",
      "text/plain": [
       "<Figure size 576x432 with 1 Axes>"
      ]
     },
     "metadata": {
      "needs_background": "light"
     },
     "output_type": "display_data"
    }
   ],
   "source": [
    "to_plot = experimental_df.iloc[:6,1:].values\n",
    "fig,ax = plt.subplots(figsize = (8,6))\n",
    "ax.plot(np.arange(1,7),to_plot[:,0], marker = 's', markersize = 15, c = 'red', markerfacecolor='white', label = 'Measured')\n",
    "iter1_n = [x.n for x in to_plot[:,1]]\n",
    "iter1_std = [x.s for x in to_plot[:,1]]\n",
    "ax.errorbar(np.arange(1,7),iter1_n, yerr = iter1_std, marker = 'o', markersize = 15, c = 'black', markerfacecolor='white', label = 'Iteration 1')\n",
    "\n",
    "iter2_n = [x.n for x in to_plot[:,2]]\n",
    "iter2_std = [x.s for x in to_plot[:,2]]\n",
    "\n",
    "ax.errorbar(np.arange(1,7),iter2_n,yerr=iter2_std, marker = 'v', markersize = 15, c = 'blue', markerfacecolor='white', label = 'Iteration 1')\n",
    "ax.fill_between(np.arange(1,7), to_plot[:,0], iter1_n, color='pink', alpha=0.5)\n",
    "ax.fill_between(np.arange(1,7), to_plot[:,0], iter2_n, color='green', alpha=0.5)\n",
    "ax.set_xticks(np.arange(1,7), ['A','B','C','D','E','F'])\n",
    "ax.tick_params(axis='x', which='major', labelsize=16, direction = 'in', size = 10)\n",
    "ax.tick_params(axis='y', which='both', labelsize=16, direction = 'in', size = 10)\n",
    "ax.set_ylim(1.5,6.5)\n",
    "ax.set_xlabel('Sample', fontsize = 20)\n",
    "ax.set_ylabel('Measured $H_{v}$ (GPa)', fontsize = 20)\n",
    "plt.legend(fontsize=\"x-large\", loc = 'lower right')\n",
    "plt.savefig('figures/Fig7.jpeg')"
   ]
  },
  {
   "cell_type": "code",
   "execution_count": 90,
   "metadata": {},
   "outputs": [],
   "source": [
    "experimental_df[:6].to_csv('final_predictions.csv')"
   ]
  }
 ],
 "metadata": {
  "kernelspec": {
   "display_name": "monbw_alloy_hardness",
   "language": "python",
   "name": "python3"
  },
  "language_info": {
   "codemirror_mode": {
    "name": "ipython",
    "version": 3
   },
   "file_extension": ".py",
   "mimetype": "text/x-python",
   "name": "python",
   "nbconvert_exporter": "python",
   "pygments_lexer": "ipython3",
   "version": "3.10.4"
  },
  "orig_nbformat": 4,
  "vscode": {
   "interpreter": {
    "hash": "4e309fee53f67ae8bec19112853891ba4c8300edcac17d8c4e5d7c970b0c0f87"
   }
  }
 },
 "nbformat": 4,
 "nbformat_minor": 2
}
